{
 "cells": [
  {
   "cell_type": "code",
   "execution_count": 2,
   "id": "46e663c3",
   "metadata": {},
   "outputs": [],
   "source": [
    "import numpy as np\n",
    "import pandas as pd\n",
    "import pandas as pd\n",
    "import nltk\n",
    "from nltk.tokenize import RegexpTokenizer\n",
    "from nltk.corpus import stopwords\n",
    "from nltk.stem.porter import PorterStemmer\n",
    "\n",
    "# load in data\n",
    "df2021 = pd.read_csv('2021VAERSSYMPTOMS.csv')\n",
    "df2022 = pd.read_csv('2022VAERSSYMPTOMS.csv')\n",
    "dfsymptoms = pd.concat([df2021, df2022], axis=0)"
   ]
  },
  {
   "cell_type": "code",
   "execution_count": 3,
   "id": "dcbb79c7",
   "metadata": {},
   "outputs": [],
   "source": [
    "# combine duplicate rows in SYMPTOMS file\n",
    "dfsymptoms_merged = dfsymptoms.groupby(['VAERS_ID'])[['SYMPTOM1','SYMPTOMVERSION1', 'SYMPTOM2', 'SYMPTOMVERSION2', 'SYMPTOM3', 'SYMPTOMVERSION3', 'SYMPTOM4', 'SYMPTOMVERSION4', 'SYMPTOM5', 'SYMPTOMVERSION5']].agg(set)"
   ]
  },
  {
   "cell_type": "code",
   "execution_count": 4,
   "id": "fece8626",
   "metadata": {},
   "outputs": [
    {
     "data": {
      "text/html": [
       "<div>\n",
       "<style scoped>\n",
       "    .dataframe tbody tr th:only-of-type {\n",
       "        vertical-align: middle;\n",
       "    }\n",
       "\n",
       "    .dataframe tbody tr th {\n",
       "        vertical-align: top;\n",
       "    }\n",
       "\n",
       "    .dataframe thead th {\n",
       "        text-align: right;\n",
       "    }\n",
       "</style>\n",
       "<table border=\"1\" class=\"dataframe\">\n",
       "  <thead>\n",
       "    <tr style=\"text-align: right;\">\n",
       "      <th></th>\n",
       "      <th>VAERS_ID</th>\n",
       "      <th>VAX_TYPE</th>\n",
       "      <th>VAX_MANU</th>\n",
       "      <th>VAX_LOT</th>\n",
       "      <th>VAX_DOSE_SERIES</th>\n",
       "      <th>VAX_ROUTE</th>\n",
       "      <th>VAX_SITE</th>\n",
       "      <th>VAX_NAME</th>\n",
       "      <th>SYMPTOM1</th>\n",
       "      <th>SYMPTOMVERSION1</th>\n",
       "      <th>SYMPTOM2</th>\n",
       "      <th>SYMPTOMVERSION2</th>\n",
       "      <th>SYMPTOM3</th>\n",
       "      <th>SYMPTOMVERSION3</th>\n",
       "      <th>SYMPTOM4</th>\n",
       "      <th>SYMPTOMVERSION4</th>\n",
       "      <th>SYMPTOM5</th>\n",
       "      <th>SYMPTOMVERSION5</th>\n",
       "    </tr>\n",
       "  </thead>\n",
       "  <tbody>\n",
       "    <tr>\n",
       "      <th>0</th>\n",
       "      <td>910642</td>\n",
       "      <td>COVID19</td>\n",
       "      <td>PFIZER\\BIONTECH</td>\n",
       "      <td>EJ1685</td>\n",
       "      <td>1</td>\n",
       "      <td>NaN</td>\n",
       "      <td>LA</td>\n",
       "      <td>COVID19 (COVID19 (PFIZER-BIONTECH))</td>\n",
       "      <td>Dyspnoea</td>\n",
       "      <td>25.0</td>\n",
       "      <td>Heart rate increased</td>\n",
       "      <td>25.0</td>\n",
       "      <td>SARS-CoV-2 test negative</td>\n",
       "      <td>25.0</td>\n",
       "      <td>NaN</td>\n",
       "      <td>NaN</td>\n",
       "      <td>NaN</td>\n",
       "      <td>NaN</td>\n",
       "    </tr>\n",
       "  </tbody>\n",
       "</table>\n",
       "</div>"
      ],
      "text/plain": [
       "   VAERS_ID VAX_TYPE         VAX_MANU VAX_LOT VAX_DOSE_SERIES VAX_ROUTE  \\\n",
       "0    910642  COVID19  PFIZER\\BIONTECH  EJ1685               1       NaN   \n",
       "\n",
       "  VAX_SITE                             VAX_NAME  SYMPTOM1  SYMPTOMVERSION1  \\\n",
       "0       LA  COVID19 (COVID19 (PFIZER-BIONTECH))  Dyspnoea             25.0   \n",
       "\n",
       "               SYMPTOM2  SYMPTOMVERSION2                  SYMPTOM3  \\\n",
       "0  Heart rate increased             25.0  SARS-CoV-2 test negative   \n",
       "\n",
       "   SYMPTOMVERSION3 SYMPTOM4  SYMPTOMVERSION4 SYMPTOM5  SYMPTOMVERSION5  \n",
       "0             25.0      NaN              NaN      NaN              NaN  "
      ]
     },
     "execution_count": 4,
     "metadata": {},
     "output_type": "execute_result"
    }
   ],
   "source": [
    "# merge VAX and SYMPTOMS files based on repetitions VAX file\n",
    "dfvax2021 = pd.read_csv('2021VAERSVAX.csv')\n",
    "dfvax2022 = pd.read_csv('2022VAERSVAX.csv')\n",
    "dfvax = pd.concat([dfvax2021, dfvax2022], axis=0)\n",
    "dfmerged = pd.merge(dfvax, dfsymptoms, how=\"outer\", on=\"VAERS_ID\")\n",
    "dfmerged.head(1)"
   ]
  },
  {
   "cell_type": "code",
   "execution_count": 6,
   "id": "3984f82e",
   "metadata": {
    "scrolled": false
   },
   "outputs": [],
   "source": [
    "# extracting SYMPTOM columns\n",
    "dfmerged_symp = dfmerged[[\"VAERS_ID\",\"VAX_MANU\",\"SYMPTOM1\",\"SYMPTOM2\",\"SYMPTOM3\",\"SYMPTOM4\",\"SYMPTOM5\"]]"
   ]
  },
  {
   "cell_type": "code",
   "execution_count": 7,
   "id": "0e7cb3be",
   "metadata": {},
   "outputs": [],
   "source": [
    "# merge symptoms into one column\n",
    "dfmerged[\"ALLSYMPTOMS\"] = dfmerged[\"SYMPTOM1\"].str.cat(dfmerged_symp[[\"SYMPTOM2\", \"SYMPTOM3\", \"SYMPTOM4\", \"SYMPTOM5\"]].astype(str), sep=\",\")"
   ]
  },
  {
   "cell_type": "code",
   "execution_count": 8,
   "id": "cece10b5",
   "metadata": {},
   "outputs": [
    {
     "data": {
      "text/html": [
       "<div>\n",
       "<style scoped>\n",
       "    .dataframe tbody tr th:only-of-type {\n",
       "        vertical-align: middle;\n",
       "    }\n",
       "\n",
       "    .dataframe tbody tr th {\n",
       "        vertical-align: top;\n",
       "    }\n",
       "\n",
       "    .dataframe thead th {\n",
       "        text-align: right;\n",
       "    }\n",
       "</style>\n",
       "<table border=\"1\" class=\"dataframe\">\n",
       "  <thead>\n",
       "    <tr style=\"text-align: right;\">\n",
       "      <th></th>\n",
       "      <th>VAERS_ID</th>\n",
       "      <th>VAX_MANU</th>\n",
       "      <th>ALLSYMPTOMS</th>\n",
       "    </tr>\n",
       "  </thead>\n",
       "  <tbody>\n",
       "    <tr>\n",
       "      <th>0</th>\n",
       "      <td>910642</td>\n",
       "      <td>PFIZER\\BIONTECH</td>\n",
       "      <td>Dyspnoea,Heart rate increased,SARS-CoV-2 test ...</td>\n",
       "    </tr>\n",
       "    <tr>\n",
       "      <th>1</th>\n",
       "      <td>916600</td>\n",
       "      <td>MODERNA</td>\n",
       "      <td>Dysphagia,Epiglottitis,nan,nan,nan</td>\n",
       "    </tr>\n",
       "    <tr>\n",
       "      <th>2</th>\n",
       "      <td>916601</td>\n",
       "      <td>MODERNA</td>\n",
       "      <td>Anxiety,Dyspnoea,nan,nan,nan</td>\n",
       "    </tr>\n",
       "    <tr>\n",
       "      <th>3</th>\n",
       "      <td>916602</td>\n",
       "      <td>PFIZER\\BIONTECH</td>\n",
       "      <td>Chest discomfort,Dysphagia,Pain in extremity,V...</td>\n",
       "    </tr>\n",
       "    <tr>\n",
       "      <th>4</th>\n",
       "      <td>916603</td>\n",
       "      <td>MODERNA</td>\n",
       "      <td>Dizziness,Fatigue,Mobility decreased,nan,nan</td>\n",
       "    </tr>\n",
       "  </tbody>\n",
       "</table>\n",
       "</div>"
      ],
      "text/plain": [
       "   VAERS_ID         VAX_MANU  \\\n",
       "0    910642  PFIZER\\BIONTECH   \n",
       "1    916600          MODERNA   \n",
       "2    916601          MODERNA   \n",
       "3    916602  PFIZER\\BIONTECH   \n",
       "4    916603          MODERNA   \n",
       "\n",
       "                                         ALLSYMPTOMS  \n",
       "0  Dyspnoea,Heart rate increased,SARS-CoV-2 test ...  \n",
       "1                 Dysphagia,Epiglottitis,nan,nan,nan  \n",
       "2                       Anxiety,Dyspnoea,nan,nan,nan  \n",
       "3  Chest discomfort,Dysphagia,Pain in extremity,V...  \n",
       "4       Dizziness,Fatigue,Mobility decreased,nan,nan  "
      ]
     },
     "execution_count": 8,
     "metadata": {},
     "output_type": "execute_result"
    }
   ],
   "source": [
    "dfmerged_symp = dfmerged.loc(axis=1)[[\"VAERS_ID\",\"VAX_MANU\",\"ALLSYMPTOMS\"]]\n",
    "dfmerged_symp.head()"
   ]
  },
  {
   "cell_type": "code",
   "execution_count": 9,
   "id": "99170bb0",
   "metadata": {},
   "outputs": [],
   "source": [
    "# group into the top five firms\n",
    "dfpbt = dfmerged_symp[dfmerged_symp['VAX_MANU'] == 'PFIZER\\BIONTECH'].reset_index(drop=True)\n",
    "dfmoderna = dfmerged_symp[dfmerged_symp['VAX_MANU'] == 'MODERNA'].reset_index(drop=True)\n",
    "dfjanssen = dfmerged_symp[dfmerged_symp['VAX_MANU'] == 'JANSSEN'].reset_index(drop=True)\n",
    "dfgsk = dfmerged_symp[dfmerged_symp['VAX_MANU'] == 'GLAXOSMITHKLINE BIOLOGICALS'].reset_index(drop=True)\n",
    "dfmerck = dfmerged_symp[dfmerged_symp['VAX_MANU'] == 'MERCK & CO. INC.'].reset_index(drop=True)"
   ]
  },
  {
   "cell_type": "code",
   "execution_count": 10,
   "id": "a4194d70",
   "metadata": {},
   "outputs": [],
   "source": [
    "import pandas as pd\n",
    "import nltk\n",
    "from nltk.tokenize import RegexpTokenizer\n",
    "from nltk.corpus import stopwords\n",
    "from nltk.stem.porter import PorterStemmer\n",
    "import gensim\n",
    "from gensim import corpora, models\n",
    "from nltk.stem.wordnet import WordNetLemmatizer"
   ]
  },
  {
   "cell_type": "code",
   "execution_count": 11,
   "id": "fb9d9e35",
   "metadata": {},
   "outputs": [],
   "source": [
    "# convert df to string type\n",
    "pfizer = dfpbt['ALLSYMPTOMS'].astype(str)\n",
    "moderna = dfmoderna['ALLSYMPTOMS'].astype(str)\n",
    "janssen = dfjanssen['ALLSYMPTOMS'].astype(str)\n",
    "gsk = dfgsk['ALLSYMPTOMS'].astype(str)\n",
    "merck = dfmerck['ALLSYMPTOMS'].astype(str)"
   ]
  },
  {
   "cell_type": "code",
   "execution_count": 12,
   "id": "a4ba43fc",
   "metadata": {},
   "outputs": [],
   "source": [
    "newstop = ['could','within','us','doctor','medical','day','moderna','pfizer','patient', \n",
    "           'vaccine','report','reports','gsk','janssen','merck','get','got','lot','left',\n",
    "           'right','like','went','take','note','notes','given','receive','receiving',\n",
    "           'reporting','reported','received','unspecific','unspecified','unknown','pt','non',\n",
    "           'caller','number','reporter','state','call','start','feel','date','report',\n",
    "           'administered','season','could','within','report','nan','in','of','no','to']\n",
    "#dose (just to see what happens)"
   ]
  },
  {
   "cell_type": "code",
   "execution_count": 19,
   "id": "d2cabcad",
   "metadata": {},
   "outputs": [
    {
     "name": "stdout",
     "output_type": "stream",
     "text": [
      "[('pain', 176107), ('test', 111424), ('cov', 65905), ('sars', 65904), ('blood', 64805), ('headache', 64669), ('covid', 58851), ('product', 58542), ('fatigue', 57797), ('pyrexia', 52094)]\n"
     ]
    }
   ],
   "source": [
    "## cleaning data: PFIZER\n",
    "\n",
    "tokenizer = RegexpTokenizer(r'\\w+')\n",
    "\n",
    "# create English stop words list + new words\n",
    "en_stop = [nltk.corpus.stopwords.words('english'),\n",
    "           'could','within','us','doctor','medical','day','moderna','pfizer','patient', \n",
    "           'vaccine', 'report', 'reports','gsk', 'janssen','merck','get','got','lot','left',\n",
    "           'right','like','went','take','note','notes','given','receive','receiving',\n",
    "           'reporting','reported','received','unspecific','unspecified','unknown','pt','non',\n",
    "           'caller','number','reporter','state','call','start','feel','date','report',\n",
    "           'administered','season','could','within','report','nan','in','of']\n",
    "\n",
    "lemmatizer = WordNetLemmatizer()\n",
    "\n",
    "# list for tokenized documents in loop\n",
    "textspbt = []\n",
    "\n",
    "# loop through document list\n",
    "for i in pfizer:\n",
    "    \n",
    "    # clean and tokenize document string\n",
    "    raw = i.lower()\n",
    "    tokens = tokenizer.tokenize(raw)\n",
    "\n",
    "    # remove stop words from tokens\n",
    "    stopped_tokens = [i for i in tokens if not i in en_stop] \n",
    "    \n",
    "    # remove numbers from tokens    \n",
    "    letter_tokens = [i for i in stopped_tokens if not any(filter(str.isdigit, i))]\n",
    "    \n",
    "    # lemmatize tokens\n",
    "    lemma_tokens = [lemmatizer.lemmatize(i) for i in letter_tokens]\n",
    "\n",
    "    # add tokens to list\n",
    "    textspbt.append(lemma_tokens)\n",
    "\n",
    "# convert the List of Lists to a Tuple of Tuples (so that it is hashable for counting)\n",
    "#pbtclean = tuple(map(tuple, textspbt))\n",
    "\n",
    "# Combine list of lists into one list\n",
    "import itertools\n",
    "pbtclean = list(itertools.chain.from_iterable(textspbt))\n",
    "\n",
    "# count most frequent 10 words\n",
    "from collections import Counter\n",
    "pbtcounts = Counter(pbtclean).most_common(10)\n",
    "print(pbtcounts)"
   ]
  },
  {
   "cell_type": "code",
   "execution_count": 18,
   "id": "6c42a5d1",
   "metadata": {},
   "outputs": [
    {
     "name": "stdout",
     "output_type": "stream",
     "text": [
      "[('pain', 180404), ('site', 165807), ('injection', 130778), ('product', 74873), ('test', 73374), ('headache', 65484), ('pyrexia', 61533), ('fatigue', 58995), ('swelling', 57630), ('rash', 54413)]\n"
     ]
    }
   ],
   "source": [
    "## cleaning data: MODERNA\n",
    "\n",
    "tokenizer = RegexpTokenizer(r'\\w+')\n",
    "\n",
    "# create English stop words list + new words\n",
    "en_stop = [nltk.corpus.stopwords.words('english'),\n",
    "           'could','within','us','doctor','medical','day','moderna','pfizer','patient', \n",
    "           'vaccine', 'report', 'reports','gsk', 'janssen','merck','get','got','lot','left',\n",
    "           'right','like','went','take','note','notes','given','receive','receiving',\n",
    "           'reporting','reported','received','unspecific','unspecified','unknown','pt','non',\n",
    "           'caller','number','reporter','state','call','start','feel','date','report',\n",
    "           'administered','season','could','within','report','nan','in','of','no','to']\n",
    "\n",
    "lemmatizer = WordNetLemmatizer()\n",
    "\n",
    "# list for tokenized documents in loop\n",
    "textsmoderna = []\n",
    "\n",
    "# loop through document list\n",
    "for i in moderna:\n",
    "    \n",
    "    # clean and tokenize document string\n",
    "    raw = i.lower()\n",
    "    tokens = tokenizer.tokenize(raw)\n",
    "\n",
    "    # remove stop words from tokens\n",
    "    stopped_tokens = [i for i in tokens if not i in en_stop] \n",
    "    \n",
    "    # remove numbers from tokens    \n",
    "    letter_tokens = [i for i in stopped_tokens if not any(filter(str.isdigit, i))]\n",
    "    \n",
    "    # lemmatize tokens\n",
    "    lemma_tokens = [lemmatizer.lemmatize(i) for i in letter_tokens]\n",
    "\n",
    "    # add tokens to list\n",
    "    textsmoderna.append(lemma_tokens)\n",
    "    \n",
    "# convert the List of Lists to a Tuple of Tuples (so that it is hashable for counting)\n",
    "#modernaclean = tuple(map(tuple, textsmoderna))\n",
    "\n",
    "# Combine list of lists into one list\n",
    "import itertools\n",
    "modernaclean = list(itertools.chain.from_iterable(textsmoderna))\n",
    "\n",
    "# count most frequent 10 words\n",
    "from collections import Counter\n",
    "modernacounts = Counter(modernaclean).most_common(10)\n",
    "print(modernacounts)"
   ]
  },
  {
   "cell_type": "code",
   "execution_count": 17,
   "id": "e0cf2898",
   "metadata": {},
   "outputs": [
    {
     "name": "stdout",
     "output_type": "stream",
     "text": [
      "[('pain', 34274), ('headache', 16739), ('test', 14514), ('pyrexia', 14065), ('chill', 11753), ('fatigue', 11704), ('blood', 11096), ('dizziness', 8838), ('normal', 8455), ('nausea', 8443)]\n"
     ]
    }
   ],
   "source": [
    "## cleaning data: JANSSEN\n",
    "\n",
    "tokenizer = RegexpTokenizer(r'\\w+')\n",
    "\n",
    "# create English stop words list + new words\n",
    "en_stop = [nltk.corpus.stopwords.words('english'),\n",
    "            'could','within','us','doctor','medical','day','moderna','pfizer','patient', \n",
    "           'vaccine', 'report', 'reports','gsk', 'janssen','merck','get','got','lot','left',\n",
    "           'right','like','went','take','note','notes','given','receive','receiving',\n",
    "           'reporting','reported','received','unspecific','unspecified','unknown','pt','non',\n",
    "           'caller','number','reporter','state','call','start','feel','date','report',\n",
    "           'administered','season','could','within','report','nan','in','of','no','to']\n",
    "           \n",
    "lemmatizer = WordNetLemmatizer()\n",
    "\n",
    "# list for tokenized documents in loop\n",
    "textsjanssen = []\n",
    "\n",
    "# loop through document list\n",
    "for i in janssen:\n",
    "    \n",
    "    # clean and tokenize document string\n",
    "    raw = i.lower()\n",
    "    tokens = tokenizer.tokenize(raw)\n",
    "\n",
    "    # remove stop words from tokens\n",
    "    stopped_tokens = [i for i in tokens if not i in en_stop] \n",
    "    \n",
    "    # remove numbers from tokens    \n",
    "    letter_tokens = [i for i in stopped_tokens if not any(filter(str.isdigit, i))]\n",
    "    \n",
    "    # lemmatize tokens\n",
    "    lemma_tokens = [lemmatizer.lemmatize(i) for i in letter_tokens]\n",
    "\n",
    "    # add tokens to list\n",
    "    textsjanssen.append(lemma_tokens)\n",
    "    \n",
    "# convert the List of Lists to a Tuple of Tuples (so that it is hashable for counting)\n",
    "#janssenclean = tuple(map(tuple, textsjanssen))\n",
    "\n",
    "# Combine list of lists into one list    \n",
    "import itertools \n",
    "janssenclean = list(itertools.chain.from_iterable(textsjanssen))\n",
    "\n",
    "# count most frequent 10 words\n",
    "from collections import Counter\n",
    "janssencounts = Counter(janssenclean).most_common(10)\n",
    "print(janssencounts)"
   ]
  },
  {
   "cell_type": "code",
   "execution_count": 13,
   "id": "6612977f",
   "metadata": {},
   "outputs": [],
   "source": [
    "## cleaning data: GSK\n",
    "\n",
    "tokenizer = RegexpTokenizer(r'\\w+')\n",
    "\n",
    "# create English stop words list + new words\n",
    "en_stop = [nltk.corpus.stopwords.words('english'),\n",
    "            'could','within','us','doctor','medical','day','moderna','pfizer','patient', \n",
    "           'vaccine', 'report', 'reports','gsk', 'janssen','merck','get','got','lot','left',\n",
    "           'right','like','went','take','note','notes','given','receive','receiving',\n",
    "           'reporting','reported','received','unspecific','unspecified','unknown','pt','non',\n",
    "           'caller','number','reporter','state','call','start','feel','date','report',\n",
    "           'administered','season','could','within','report','nan','in','of','no','to']\n",
    "    \n",
    "\n",
    "lemmatizer = WordNetLemmatizer()\n",
    "\n",
    "# list for tokenized documents in loop\n",
    "textsgsk= []\n",
    "\n",
    "# loop through document list\n",
    "for i in gsk:\n",
    "    \n",
    "    # clean and tokenize document string\n",
    "    raw = i.lower()\n",
    "    tokens = tokenizer.tokenize(raw)\n",
    "\n",
    "    # remove stop words from tokens\n",
    "    stopped_tokens = [i for i in tokens if not i in en_stop] \n",
    "    \n",
    "    # remove numbers from tokens    \n",
    "    letter_tokens = [i for i in stopped_tokens if not any(filter(str.isdigit, i))]\n",
    "    \n",
    "    # lemmatize tokens\n",
    "    lemma_tokens = [lemmatizer.lemmatize(i) for i in letter_tokens]\n",
    "\n",
    "    # add tokens to list\n",
    "    textsgsk.append(lemma_tokens)\n",
    "    \n",
    "# Combine list of lists into one list    \n",
    "import itertools \n",
    "gskclean = list(itertools.chain.from_iterable(textsgsk))\n",
    "\n",
    "# convert the List of Lists to a Tuple of Tuples (so that it is hashable for counting)\n",
    "#gskclean = tuple(map(tuple, textsgsk))\n",
    "\n",
    "# count most frequent 10 words\n",
    "from collections import Counter\n",
    "gskcounts = Counter(gskclean).most_common(10)\n",
    "print(gskcounts)"
   ]
  },
  {
   "cell_type": "code",
   "execution_count": 16,
   "id": "1c4b7e8b",
   "metadata": {},
   "outputs": [
    {
     "name": "stdout",
     "output_type": "stream",
     "text": [
      "[('product', 10737), ('event', 6373), ('adverse', 6243), ('error', 4908), ('storage', 4632), ('site', 4098), ('injection', 3956), ('pain', 2973), ('rash', 2310), ('inappropriate', 2067)]\n"
     ]
    }
   ],
   "source": [
    "## cleaning data: MERCK\n",
    "\n",
    "tokenizer = RegexpTokenizer(r'\\w+')\n",
    "\n",
    "# create English stop words list + new words\n",
    "en_stop = [nltk.corpus.stopwords.words('english'),\n",
    "            'could','within','us','doctor','medical','day','moderna','pfizer','patient', \n",
    "           'vaccine', 'report', 'reports','gsk', 'janssen','merck','get','got','lot','left',\n",
    "           'right','like','went','take','note','notes','given','receive','receiving',\n",
    "           'reporting','reported','received','unspecific','unspecified','unknown','pt','non',\n",
    "           'caller','number','reporter','state','call','start','feel','date','report',\n",
    "           'administered','season','could','within','report','nan','in','of','no','to']\n",
    "\n",
    "lemmatizer = WordNetLemmatizer()\n",
    "\n",
    "# list for tokenized documents in loop\n",
    "textsmerck= []\n",
    "\n",
    "# loop through document list\n",
    "for i in merck:\n",
    "    \n",
    "    # clean and tokenize document string\n",
    "    raw = i.lower()\n",
    "    tokens = tokenizer.tokenize(raw)\n",
    "\n",
    "    # remove stop words from tokens\n",
    "    stopped_tokens = [i for i in tokens if not i in en_stop] \n",
    "    \n",
    "    # remove numbers from tokens    \n",
    "    letter_tokens = [i for i in stopped_tokens if not any(filter(str.isdigit, i))]\n",
    "    \n",
    "    # lemmatize tokens\n",
    "    lemma_tokens = [lemmatizer.lemmatize(i) for i in letter_tokens]\n",
    "\n",
    "    # add tokens to list\n",
    "    textsmerck.append(lemma_tokens)\n",
    "    \n",
    "# convert the List of Lists to a Tuple of Tuples (so that it is hashable for counting)\n",
    "#merckclean = tuple(map(tuple, textsmerck))\n",
    "\n",
    "# Combine list of lists into one list    \n",
    "import itertools \n",
    "merckclean = list(itertools.chain.from_iterable(textsmerck))\n",
    "\n",
    "# count most frequent 10 words\n",
    "from collections import Counter\n",
    "merckcounts = Counter(merckclean).most_common(10)\n",
    "print(merckcounts)"
   ]
  },
  {
   "cell_type": "code",
   "execution_count": 64,
   "id": "b5ca2fad",
   "metadata": {},
   "outputs": [
    {
     "name": "stdout",
     "output_type": "stream",
     "text": [
      "  MedDRA Code     Count\n",
      "0        pain  176107.0\n",
      "1        test  111424.0\n",
      "2         cov   65905.0\n",
      "3        sars   65904.0\n",
      "4       blood   64805.0\n",
      "5    headache   64669.0\n",
      "6       covid   58851.0\n",
      "7     product   58542.0\n",
      "8     fatigue   57797.0\n",
      "9     pyrexia   52094.0\n"
     ]
    },
    {
     "data": {
      "image/png": "[encoded data removed]",
      "text/plain": [
       "<Figure size 640x480 with 1 Axes>"
      ]
     },
     "metadata": {},
     "output_type": "display_data"
    }
   ],
   "source": [
    "a = np.array(pbtcounts)\n",
    "pfizerdata = pd.DataFrame(data = a, columns = [\"MedDRA Code\", \"Count\"])\n",
    "pfizerdata['Count']=pfizerdata['Count'].astype(float)\n",
    "pfizerplot = pfizerdata.plot.barh(x='MedDRA Code', y='Count')\n",
    "print(pfizerdata)"
   ]
  },
  {
   "cell_type": "code",
   "execution_count": 65,
   "id": "54d19a8e",
   "metadata": {},
   "outputs": [
    {
     "name": "stdout",
     "output_type": "stream",
     "text": [
      "  MedDRA Code     Count\n",
      "0        pain  180404.0\n",
      "1        site  165807.0\n",
      "2   injection  130778.0\n",
      "3     product   74873.0\n",
      "4        test   73374.0\n",
      "5    headache   65484.0\n",
      "6     pyrexia   61533.0\n",
      "7     fatigue   58995.0\n",
      "8    swelling   57630.0\n",
      "9        rash   54413.0\n"
     ]
    },
    {
     "data": {
      "image/png": "[encoded data removed]",
      "text/plain": [
       "<Figure size 640x480 with 1 Axes>"
      ]
     },
     "metadata": {},
     "output_type": "display_data"
    }
   ],
   "source": [
    "b = np.array(modernacounts)\n",
    "modernadata = pd.DataFrame(data = b, columns = [\"MedDRA Code\", \"Count\"])\n",
    "modernadata['Count'] = modernadata['Count'].astype(float)\n",
    "modernaplot = modernadata.plot.barh(x='MedDRA Code', y='Count')\n",
    "print(modernadata)"
   ]
  },
  {
   "cell_type": "code",
   "execution_count": 66,
   "id": "15070d02",
   "metadata": {},
   "outputs": [
    {
     "name": "stdout",
     "output_type": "stream",
     "text": [
      "  MedDRA Code    Count\n",
      "0        pain  34274.0\n",
      "1    headache  16739.0\n",
      "2        test  14514.0\n",
      "3     pyrexia  14065.0\n",
      "4       chill  11753.0\n",
      "5     fatigue  11704.0\n",
      "6       blood  11096.0\n",
      "7   dizziness   8838.0\n",
      "8      normal   8455.0\n",
      "9      nausea   8443.0\n"
     ]
    },
    {
     "data": {
      "image/png": "[encoded data removed]",
      "text/plain": [
       "<Figure size 640x480 with 1 Axes>"
      ]
     },
     "metadata": {},
     "output_type": "display_data"
    }
   ],
   "source": [
    "c = np.array(janssencounts)\n",
    "janssendata = pd.DataFrame(data = c, columns = [\"MedDRA Code\", \"Count\"])\n",
    "janssendata['Count'] = janssendata['Count'].astype(float)\n",
    "janssenplot = janssendata.plot.barh(x='MedDRA Code', y='Count')\n",
    "print(janssendata)"
   ]
  },
  {
   "cell_type": "code",
   "execution_count": 67,
   "id": "40796ec3",
   "metadata": {},
   "outputs": [
    {
     "name": "stdout",
     "output_type": "stream",
     "text": [
      "     MedDRA Code    Count\n",
      "0           pain  10675.0\n",
      "1        product   9124.0\n",
      "2           site   8785.0\n",
      "3      injection   8713.0\n",
      "4           rash   3523.0\n",
      "5        pyrexia   3479.0\n",
      "6       swelling   3422.0\n",
      "7  inappropriate   3387.0\n",
      "8    vaccination   3266.0\n",
      "9       erythema   3157.0\n"
     ]
    },
    {
     "data": {
      "image/png": "[encoded data removed]",
      "text/plain": [
       "<Figure size 640x480 with 1 Axes>"
      ]
     },
     "metadata": {},
     "output_type": "display_data"
    }
   ],
   "source": [
    "d = np.array(gskcounts)\n",
    "gskdata = pd.DataFrame(data = d, columns = [\"MedDRA Code\", \"Count\"])\n",
    "gskdata['Count'] = gskdata['Count'].astype(float)\n",
    "gskplot = gskdata.plot.barh(x='MedDRA Code', y='Count')\n",
    "print(gskdata)"
   ]
  },
  {
   "cell_type": "code",
   "execution_count": 68,
   "id": "439a3156",
   "metadata": {},
   "outputs": [
    {
     "name": "stdout",
     "output_type": "stream",
     "text": [
      "     MedDRA Code    Count\n",
      "0        product  10737.0\n",
      "1          event   6373.0\n",
      "2        adverse   6243.0\n",
      "3          error   4908.0\n",
      "4        storage   4632.0\n",
      "5           site   4098.0\n",
      "6      injection   3956.0\n",
      "7           pain   2973.0\n",
      "8           rash   2310.0\n",
      "9  inappropriate   2067.0\n"
     ]
    },
    {
     "data": {
      "image/png": "[encoded data removed]",
      "text/plain": [
       "<Figure size 640x480 with 1 Axes>"
      ]
     },
     "metadata": {},
     "output_type": "display_data"
    }
   ],
   "source": [
    "import numpy as np\n",
    "e = np.array(merckcounts)\n",
    "merckdata = pd.DataFrame(data = e, columns = [\"MedDRA Code\", \"Count\"])\n",
    "merckdata['Count'] = merckdata['Count'].astype(float)\n",
    "merckplot = merckdata.plot.barh(x='MedDRA Code', y='Count')\n",
    "print(merckdata)"
   ]
  },
  {
   "cell_type": "code",
   "execution_count": null,
   "id": "0db3cfaf",
   "metadata": {},
   "outputs": [],
   "source": []
  }
 ],
 "metadata": {
  "kernelspec": {
   "display_name": "Python 3 (ipykernel)",
   "language": "python",
   "name": "python3"
  },
  "language_info": {
   "codemirror_mode": {
    "name": "ipython",
    "version": 3
   },
   "file_extension": ".py",
   "mimetype": "text/x-python",
   "name": "python",
   "nbconvert_exporter": "python",
   "pygments_lexer": "ipython3",
   "version": "3.9.13"
  }
 },
 "nbformat": 4,
 "nbformat_minor": 5
}
