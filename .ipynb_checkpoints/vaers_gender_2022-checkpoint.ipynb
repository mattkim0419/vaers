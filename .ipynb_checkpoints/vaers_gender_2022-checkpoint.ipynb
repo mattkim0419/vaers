{
 "cells": [
  {
   "cell_type": "code",
   "execution_count": 11,
   "id": "3a1bbc52",
   "metadata": {},
   "outputs": [],
   "source": [
    "import pandas as pd\n",
    "import glob\n",
    "from functools import reduce\n",
    "import matplotlib.pyplot as plt"
   ]
  },
  {
   "cell_type": "code",
   "execution_count": 12,
   "id": "151fed48",
   "metadata": {},
   "outputs": [],
   "source": [
    "## 2022\n",
    "dfvax = pd.read_csv('2022VAERSVAX.csv')\n",
    "dfsymptoms = pd.read_csv('2022VAERSSYMPTOMS.csv')\n",
    "dfdata = pd.read_csv('2022VAERSDATA.csv', low_memory=False)\n",
    "    # added in low_memory=False because of error without it"
   ]
  },
  {
   "cell_type": "code",
   "execution_count": 13,
   "id": "1712159e",
   "metadata": {},
   "outputs": [
    {
     "data": {
      "text/html": [
       "<div>\n",
       "<style scoped>\n",
       "    .dataframe tbody tr th:only-of-type {\n",
       "        vertical-align: middle;\n",
       "    }\n",
       "\n",
       "    .dataframe tbody tr th {\n",
       "        vertical-align: top;\n",
       "    }\n",
       "\n",
       "    .dataframe thead th {\n",
       "        text-align: right;\n",
       "    }\n",
       "</style>\n",
       "<table border=\"1\" class=\"dataframe\">\n",
       "  <thead>\n",
       "    <tr style=\"text-align: right;\">\n",
       "      <th></th>\n",
       "      <th>VAX_MANU</th>\n",
       "      <th>SEX</th>\n",
       "    </tr>\n",
       "  </thead>\n",
       "  <tbody>\n",
       "    <tr>\n",
       "      <th>0</th>\n",
       "      <td>MERCK &amp; CO. INC.</td>\n",
       "      <td>U</td>\n",
       "    </tr>\n",
       "    <tr>\n",
       "      <th>1</th>\n",
       "      <td>JANSSEN</td>\n",
       "      <td>U</td>\n",
       "    </tr>\n",
       "    <tr>\n",
       "      <th>2</th>\n",
       "      <td>JANSSEN</td>\n",
       "      <td>M</td>\n",
       "    </tr>\n",
       "    <tr>\n",
       "      <th>3</th>\n",
       "      <td>PFIZER\\BIONTECH</td>\n",
       "      <td>F</td>\n",
       "    </tr>\n",
       "    <tr>\n",
       "      <th>4</th>\n",
       "      <td>PFIZER\\BIONTECH</td>\n",
       "      <td>F</td>\n",
       "    </tr>\n",
       "  </tbody>\n",
       "</table>\n",
       "</div>"
      ],
      "text/plain": [
       "           VAX_MANU SEX\n",
       "0  MERCK & CO. INC.   U\n",
       "1           JANSSEN   U\n",
       "2           JANSSEN   M\n",
       "3   PFIZER\\BIONTECH   F\n",
       "4   PFIZER\\BIONTECH   F"
      ]
     },
     "execution_count": 13,
     "metadata": {},
     "output_type": "execute_result"
    }
   ],
   "source": [
    "c"
   ]
  },
  {
   "cell_type": "code",
   "execution_count": 14,
   "id": "5692906a",
   "metadata": {},
   "outputs": [
    {
     "name": "stdout",
     "output_type": "stream",
     "text": [
      "     VAX_MANU\n",
      "SEX          \n",
      "F       48876\n",
      "M       31564\n",
      "U        6935\n"
     ]
    }
   ],
   "source": [
    "dfmoderna = dfsex[dfsex['VAX_MANU'] == 'MODERNA'].reset_index(drop=True)\n",
    "moderna_sex = dfmoderna.groupby('SEX').count()\n",
    "print(moderna_sex)"
   ]
  },
  {
   "cell_type": "code",
   "execution_count": 15,
   "id": "a03960cd",
   "metadata": {},
   "outputs": [],
   "source": [
    "# extracting gender data for each company\n",
    "dfpbt = dfsex[dfsex['VAX_MANU'] == 'PFIZER\\BIONTECH'].reset_index(drop=True)\n",
    "dfgsk = dfsex[dfsex['VAX_MANU'] == 'GLAXOSMITHKLINE BIOLOGICALS'].reset_index(drop=True)\n",
    "dfjanssen = dfsex[dfsex['VAX_MANU'] == 'JANSSEN'].reset_index(drop=True)\n",
    "dfmerck = dfsex[dfsex['VAX_MANU'] == 'MERCK & CO. INC.'].reset_index(drop=True)\n",
    "\n",
    "# counting F, M, and U for each company\n",
    "pbt_sex = dfpbt.groupby('SEX').count()\n",
    "gsk_sex = dfgsk.groupby('SEX').count()\n",
    "janssen_sex = dfjanssen.groupby('SEX').count()\n",
    "merck_sex = dfmerck.groupby('SEX').count()"
   ]
  },
  {
   "cell_type": "code",
   "execution_count": 16,
   "id": "5c40f734",
   "metadata": {},
   "outputs": [
    {
     "data": {
      "text/html": [
       "<div>\n",
       "<style scoped>\n",
       "    .dataframe tbody tr th:only-of-type {\n",
       "        vertical-align: middle;\n",
       "    }\n",
       "\n",
       "    .dataframe tbody tr th {\n",
       "        vertical-align: top;\n",
       "    }\n",
       "\n",
       "    .dataframe thead th {\n",
       "        text-align: right;\n",
       "    }\n",
       "</style>\n",
       "<table border=\"1\" class=\"dataframe\">\n",
       "  <thead>\n",
       "    <tr style=\"text-align: right;\">\n",
       "      <th></th>\n",
       "      <th>PfizerBioNTech</th>\n",
       "      <th>Moderna</th>\n",
       "      <th>GSK</th>\n",
       "      <th>Merck</th>\n",
       "      <th>Janssen</th>\n",
       "    </tr>\n",
       "    <tr>\n",
       "      <th>SEX</th>\n",
       "      <th></th>\n",
       "      <th></th>\n",
       "      <th></th>\n",
       "      <th></th>\n",
       "      <th></th>\n",
       "    </tr>\n",
       "  </thead>\n",
       "  <tbody>\n",
       "    <tr>\n",
       "      <th>F</th>\n",
       "      <td>59844</td>\n",
       "      <td>48876</td>\n",
       "      <td>6499</td>\n",
       "      <td>4351</td>\n",
       "      <td>4667</td>\n",
       "    </tr>\n",
       "    <tr>\n",
       "      <th>M</th>\n",
       "      <td>39252</td>\n",
       "      <td>31564</td>\n",
       "      <td>4093</td>\n",
       "      <td>3005</td>\n",
       "      <td>3144</td>\n",
       "    </tr>\n",
       "    <tr>\n",
       "      <th>U</th>\n",
       "      <td>8535</td>\n",
       "      <td>6935</td>\n",
       "      <td>1115</td>\n",
       "      <td>780</td>\n",
       "      <td>660</td>\n",
       "    </tr>\n",
       "  </tbody>\n",
       "</table>\n",
       "</div>"
      ],
      "text/plain": [
       "     PfizerBioNTech  Moderna   GSK  Merck  Janssen\n",
       "SEX                                               \n",
       "F             59844    48876  6499   4351     4667\n",
       "M             39252    31564  4093   3005     3144\n",
       "U              8535     6935  1115    780      660"
      ]
     },
     "execution_count": 16,
     "metadata": {},
     "output_type": "execute_result"
    }
   ],
   "source": [
    "dfsex_merged = pd.concat([pbt_sex, moderna_sex, gsk_sex, merck_sex, janssen_sex], axis=1)\n",
    "#dfsex_merged.set_index(['Pfizer BioNTech', 'Moderna', 'GSK', 'Merck', 'Janssen'])\n",
    "#mapping = {dfsex_merged.columns[0]: 'Pfizer BioNTech', dfsex_merged.columns[1]: 'Moderna', dfsex_merged.columns[2]: 'GSK', dfsex_merged.columns[3]: 'Merck', dfsex_merged.columns[1]: 'Janssen'}\n",
    "#a = dfsex_merged.rename(columns=mapping)\n",
    "#a.head()\n",
    "dfsex_merged.columns.values[0] = \"PfizerBioNTech\"\n",
    "dfsex_merged.columns.values[1] = \"Moderna\"\n",
    "dfsex_merged.columns.values[2] = \"GSK\"\n",
    "dfsex_merged.columns.values[3] = \"Merck\"\n",
    "dfsex_merged.columns.values[4] = \"Janssen\"\n",
    "dfsex_merged.head()"
   ]
  },
  {
   "cell_type": "code",
   "execution_count": 17,
   "id": "43ea5e0c",
   "metadata": {},
   "outputs": [
    {
     "data": {
      "image/png": "[encoded data removed]",
      "text/plain": [
       "<Figure size 640x480 with 1 Axes>"
      ]
     },
     "metadata": {},
     "output_type": "display_data"
    }
   ],
   "source": [
    "## Plotting\n",
    "plot1 = dfsex_merged.plot.bar(rot=0)"
   ]
  },
  {
   "cell_type": "code",
   "execution_count": 18,
   "id": "add8645c",
   "metadata": {},
   "outputs": [
    {
     "data": {
      "image/png": "[encoded data removed]",
      "text/plain": [
       "<Figure size 640x480 with 1 Axes>"
      ]
     },
     "metadata": {},
     "output_type": "display_data"
    }
   ],
   "source": [
    "dfsex_mergedT = dfsex_merged.transpose()\n",
    "plot2 = dfsex_mergedT.plot.bar(rot=0)"
   ]
  },
  {
   "cell_type": "code",
   "execution_count": null,
   "id": "b1af4a6a",
   "metadata": {},
   "outputs": [],
   "source": []
  }
 ],
 "metadata": {
  "kernelspec": {
   "display_name": "Python 3 (ipykernel)",
   "language": "python",
   "name": "python3"
  },
  "language_info": {
   "codemirror_mode": {
    "name": "ipython",
    "version": 3
   },
   "file_extension": ".py",
   "mimetype": "text/x-python",
   "name": "python",
   "nbconvert_exporter": "python",
   "pygments_lexer": "ipython3",
   "version": "3.9.13"
  }
 },
 "nbformat": 4,
 "nbformat_minor": 5
}
