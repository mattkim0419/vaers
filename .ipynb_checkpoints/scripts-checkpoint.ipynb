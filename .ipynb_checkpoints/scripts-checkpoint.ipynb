{
 "cells": [
  {
   "cell_type": "code",
   "execution_count": 19,
   "id": "fd8b6b8f",
   "metadata": {
    "scrolled": true
   },
   "outputs": [],
   "source": [
    "import pandas as pd\n",
    "import glob\n",
    "\n",
    "def merge_csv_files(input_files, output_file_name):\n",
    "\n",
    "    # Merge multiple CSV files in a folder into a single CSV file\n",
    "\n",
    "    df_list = []\n",
    "\n",
    "    for filename in input_files:\n",
    "        df = pd.read_csv(filename, index_col=None, header=0, encoding= 'unicode_escape')\n",
    "        df_list.append(df)\n",
    "\n",
    "    combined_df = pd.concat(df_list, axis=0, ignore_index=True)\n",
    "    combined_df.to_csv(output_file_name, index=False)\n",
    "   \n",
    "merge_csv_files([\"2021VAERSVAX.csv\",\"2022VAERSVAX.csv\",\"2023VAERSVAX.csv\"], \"VAERSVAX.csv\")"
   ]
  },
  {
   "cell_type": "code",
   "execution_count": 17,
   "id": "9216d45f",
   "metadata": {},
   "outputs": [],
   "source": []
  },
  {
   "cell_type": "code",
   "execution_count": null,
   "id": "af197f85",
   "metadata": {},
   "outputs": [],
   "source": []
  }
 ],
 "metadata": {
  "kernelspec": {
   "display_name": "Python 3 (ipykernel)",
   "language": "python",
   "name": "python3"
  },
  "language_info": {
   "codemirror_mode": {
    "name": "ipython",
    "version": 3
   },
   "file_extension": ".py",
   "mimetype": "text/x-python",
   "name": "python",
   "nbconvert_exporter": "python",
   "pygments_lexer": "ipython3",
   "version": "3.9.13"
  }
 },
 "nbformat": 4,
 "nbformat_minor": 5
}
