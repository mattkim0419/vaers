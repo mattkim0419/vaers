{
 "cells": [
  {
   "cell_type": "code",
   "execution_count": 2,
   "id": "157fbcd9-40d2-4343-bd32-588d219c29ce",
   "metadata": {},
   "outputs": [],
   "source": [
    "import pandas as pd\n",
    "import glob\n",
    "from functools import reduce\n",
    "    \n",
    "def merge_csv_files(input_files, output_file_name):\n",
    "\n",
    "    # Merge multiple CSV files in a folder into a single CSV file\n",
    "\n",
    "    df_list = []\n",
    "\n",
    "    for filename in input_files:\n",
    "        df = pd.read_csv(filename, index_col=None, header=0, dtype = 'object', encoding= 'latin1')\n",
    "        df_list.append(df)\n",
    "\n",
    "    df_merged = reduce(lambda  left,right: pd.merge(left,right,on=['VAERS_ID'],\n",
    "                                            how='outer'), df_list) \n",
    "    \n",
    "    #combined_df.to_csv(output_file_name, index=False)\n",
    "    #print(df_list)\n",
    "    \n",
    "    pd.DataFrame.to_csv(df_merged, output_file_name, sep=',', na_rep='void', index=False)\n",
    "   \n",
    "merge_csv_files([\"2021VAERSVAX.csv\", \"2022VAERSVAX.csv\",\"2021VAERSSYMPTOMS.csv\", \"2021VAERSSYMPTOMS.csv\"], \"VAERS_ALL.csv\")"
   ]
  },
  {
   "cell_type": "code",
   "execution_count": 3,
   "id": "9e9db32a-d8d7-4af3-a993-60cf5fee3375",
   "metadata": {},
   "outputs": [
    {
     "name": "stdout",
     "output_type": "stream",
     "text": [
      "Requirement already satisfied: nltk in c:\\users\\saylo\\anaconda3\\lib\\site-packages (3.7)\n",
      "Collecting nltk\n",
      "  Downloading nltk-3.8.1-py3-none-any.whl (1.5 MB)\n",
      "     ---------------------------------------- 1.5/1.5 MB 12.0 MB/s eta 0:00:00\n",
      "Requirement already satisfied: regex>=2021.8.3 in c:\\users\\saylo\\anaconda3\\lib\\site-packages (from nltk) (2022.7.9)\n",
      "Requirement already satisfied: joblib in c:\\users\\saylo\\anaconda3\\lib\\site-packages (from nltk) (1.1.0)\n",
      "Requirement already satisfied: click in c:\\users\\saylo\\anaconda3\\lib\\site-packages (from nltk) (8.0.4)\n",
      "Requirement already satisfied: tqdm in c:\\users\\saylo\\anaconda3\\lib\\site-packages (from nltk) (4.64.1)\n",
      "Requirement already satisfied: colorama in c:\\users\\saylo\\anaconda3\\lib\\site-packages (from click->nltk) (0.4.5)\n",
      "Installing collected packages: nltk\n",
      "Successfully installed nltk-3.8.1\n",
      "Note: you may need to restart the kernel to use updated packages.\n"
     ]
    },
    {
     "name": "stderr",
     "output_type": "stream",
     "text": [
      "  WARNING: The script nltk.exe is installed in 'C:\\Users\\saylo\\AppData\\Roaming\\Python\\Python39\\Scripts' which is not on PATH.\n",
      "  Consider adding this directory to PATH or, if you prefer to suppress this warning, use --no-warn-script-location.\n"
     ]
    }
   ],
   "source": [
    "pip install --user -U nltk"
   ]
  },
  {
   "cell_type": "code",
   "execution_count": 4,
   "id": "8bc9e68f-5f72-4770-9a87-2dc6b7206e99",
   "metadata": {},
   "outputs": [
    {
     "name": "stdout",
     "output_type": "stream",
     "text": [
      "                   SYMPTOM3\n",
      "0  SARS-CoV-2 test negative\n",
      "1                       NaN\n",
      "2                       NaN\n",
      "3         Pain in extremity\n",
      "4        Mobility decreased\n"
     ]
    }
   ],
   "source": [
    "# merging files (for presentation)\n",
    "dfsym = pd.read_csv('2021VAERSSYMPTOMS.csv', index_col=None, header=0, dtype = 'object', encoding= 'latin1')\n",
    "dfvax = pd.read_csv('2021VAERSVAX.csv', index_col=None, header=0, dtype = 'object', encoding= 'latin1')\n",
    "\n",
    "dfsym = dfsym.head()\n",
    "\n",
    "df = dfsym[['SYMPTOM3']]\n",
    "\n",
    "print(df)"
   ]
  },
  {
   "cell_type": "code",
   "execution_count": 5,
   "id": "15f2607a-f7eb-45fb-80b5-c04c6cc18e24",
   "metadata": {},
   "outputs": [
    {
     "name": "stderr",
     "output_type": "stream",
     "text": [
      "[nltk_data] Downloading package stopwords to\n",
      "[nltk_data]     C:\\Users\\saylo\\AppData\\Roaming\\nltk_data...\n",
      "[nltk_data]   Unzipping corpora\\stopwords.zip.\n",
      "[nltk_data] Downloading package punkt to\n",
      "[nltk_data]     C:\\Users\\saylo\\AppData\\Roaming\\nltk_data...\n",
      "[nltk_data]   Unzipping tokenizers\\punkt.zip.\n",
      "[nltk_data] Downloading package wordnet to\n",
      "[nltk_data]     C:\\Users\\saylo\\AppData\\Roaming\\nltk_data...\n",
      "[nltk_data] Error downloading 'wordnet' from\n",
      "[nltk_data]     <https://raw.githubusercontent.com/nltk/nltk_data/gh-\n",
      "[nltk_data]     pages/packages/corpora/wordnet.zip>:   [WinError\n",
      "[nltk_data]     10053] An established connection was aborted by the\n",
      "[nltk_data]     software in your host machine\n"
     ]
    },
    {
     "data": {
      "text/plain": [
       "False"
      ]
     },
     "execution_count": 5,
     "metadata": {},
     "output_type": "execute_result"
    }
   ],
   "source": [
    "# downloads for lemmatizing data\n",
    "\n",
    "import nltk\n",
    "nltk.download('stopwords')\n",
    "nltk.download('punkt')\n",
    "nltk.download('wordnet')"
   ]
  },
  {
   "cell_type": "code",
   "execution_count": null,
   "id": "0620ed48-f79b-459c-b4ff-6d8804d766f7",
   "metadata": {},
   "outputs": [
    {
     "name": "stdout",
     "output_type": "stream",
     "text": [
      "['i', 'me', 'my', 'myself', 'we', 'our', 'ours', 'ourselves', 'you', \"you're\", \"you've\", \"you'll\", \"you'd\", 'your', 'yours', 'yourself', 'yourselves', 'he', 'him', 'his', 'himself', 'she', \"she's\", 'her', 'hers', 'herself', 'it', \"it's\", 'its', 'itself', 'they', 'them', 'their', 'theirs', 'themselves', 'what', 'which', 'who', 'whom', 'this', 'that', \"that'll\", 'these', 'those', 'am', 'is', 'are', 'was', 'were', 'be', 'been', 'being', 'have', 'has', 'had', 'having', 'do', 'does', 'did', 'doing', 'a', 'an', 'the', 'and', 'but', 'if', 'or', 'because', 'as', 'until', 'while', 'of', 'at', 'by', 'for', 'with', 'about', 'against', 'between', 'into', 'through', 'during', 'before', 'after', 'above', 'below', 'to', 'from', 'up', 'down', 'in', 'out', 'on', 'off', 'over', 'under', 'again', 'further', 'then', 'once', 'here', 'there', 'when', 'where', 'why', 'how', 'all', 'any', 'both', 'each', 'few', 'more', 'most', 'other', 'some', 'such', 'no', 'nor', 'not', 'only', 'own', 'same', 'so', 'than', 'too', 'very', 's', 't', 'can', 'will', 'just', 'don', \"don't\", 'should', \"should've\", 'now', 'd', 'll', 'm', 'o', 're', 've', 'y', 'ain', 'aren', \"aren't\", 'couldn', \"couldn't\", 'didn', \"didn't\", 'doesn', \"doesn't\", 'hadn', \"hadn't\", 'hasn', \"hasn't\", 'haven', \"haven't\", 'isn', \"isn't\", 'ma', 'mightn', \"mightn't\", 'mustn', \"mustn't\", 'needn', \"needn't\", 'shan', \"shan't\", 'shouldn', \"shouldn't\", 'wasn', \"wasn't\", 'weren', \"weren't\", 'won', \"won't\", 'wouldn', \"wouldn't\", ['could', 'within', 'us', 'doctor', 'medical', 'day', 'moderna', 'pfizer', 'patient', 'vaccine', 'report', 'gsk', 'janssen', 'merck', 'get', 'got', 'lot', 'left', 'right', 'like', 'went', 'take', 'note', 'notes', 'given', 'receive', 'receiving', 'reporting', 'reported', 'received', 'unspecific', 'unspecified', 'unknown', 'reporting', 'pt', 'non', 'caller', 'number', 'state', 'call', 'start', 'feel', 'date', 'report', 'administered', 'dose', 'season']]\n"
     ]
    }
   ],
   "source": [
    "#stop words being removed \n",
    "print(en_stop)"
   ]
  },
  {
   "cell_type": "code",
   "execution_count": null,
   "id": "b2f312e3-109c-47cb-80be-3f0d36314e0d",
   "metadata": {},
   "outputs": [
    {
     "name": "stdout",
     "output_type": "stream",
     "text": [
      "[(0, '0.053*\"heart\" + 0.034*\"breath\" + 0.023*\"dizzi\" + 0.021*\"chest\" + 0.020*\"rate\" + 0.017*\"system\" + 0.017*\"short\" + 0.016*\"pressur\" + 0.013*\"client\" + 0.011*\"blood\"'), (1, '0.023*\"shot\" + 0.012*\"know\" + 0.012*\"blood\" + 0.012*\"took\" + 0.012*\"felt\" + 0.012*\"would\" + 0.011*\"said\" + 0.011*\"back\" + 0.011*\"time\" + 0.011*\"first\"'), (2, '0.065*\"describ\" + 0.046*\"seriou\" + 0.043*\"onset\" + 0.035*\"signific\" + 0.029*\"covid\" + 0.026*\"drug\" + 0.021*\"product\" + 0.021*\"paxlovid\" + 0.020*\"ineffect\" + 0.017*\"relev\"'), (3, '0.135*\"pain\" + 0.031*\"arm\" + 0.020*\"back\" + 0.018*\"ear\" + 0.017*\"leg\" + 0.016*\"muscl\" + 0.015*\"sever\" + 0.015*\"shoulder\" + 0.015*\"extrem\" + 0.014*\"joint\"'), (4, '0.048*\"booster\" + 0.028*\"bival\" + 0.022*\"covid\" + 0.018*\"time\" + 0.018*\"advers\" + 0.016*\"month\" + 0.014*\"week\" + 0.011*\"instead\" + 0.011*\"expir\" + 0.011*\"second\"'), (5, '0.057*\"headach\" + 0.054*\"fever\" + 0.044*\"fatigu\" + 0.030*\"sore\" + 0.030*\"chill\" + 0.029*\"ach\" + 0.027*\"cough\" + 0.027*\"bodi\" + 0.023*\"throat\" + 0.023*\"pain\"'), (6, '0.053*\"eye\" + 0.051*\"hand\" + 0.031*\"numb\" + 0.024*\"mouth\" + 0.023*\"face\" + 0.022*\"feet\" + 0.021*\"tingl\" + 0.019*\"burn\" + 0.018*\"vision\" + 0.017*\"sensat\"'), (7, '0.047*\"site\" + 0.045*\"arm\" + 0.041*\"rash\" + 0.040*\"inject\" + 0.035*\"swell\" + 0.029*\"red\" + 0.026*\"swollen\" + 0.018*\"lymph\" + 0.017*\"node\" + 0.017*\"itch\"'), (8, '0.037*\"covid\" + 0.032*\"test\" + 0.025*\"posit\" + 0.019*\"hospit\" + 0.014*\"neg\" + 0.014*\"home\" + 0.009*\"present\" + 0.009*\"discharg\" + 0.008*\"care\" + 0.008*\"blood\"'), (9, '0.109*\"covid\" + 0.042*\"singl\" + 0.036*\"year\" + 0.031*\"test\" + 0.030*\"follow\" + 0.029*\"batch\" + 0.027*\"histori\" + 0.026*\"unspecifi\" + 0.025*\"immunis\" + 0.024*\"old\"')]\n"
     ]
    }
   ],
   "source": [
    "# LDA Model\n",
    "number_of_topics=10\n",
    "words=10\n",
    "clean_text=texts\n",
    "model=create_gensim_lda_model(clean_text,number_of_topics,words)\n",
    "\n",
    "start,stop,step=2,12,1\n",
    "plot_graph(clean_text,start,stop,step)"
   ]
  },
  {
   "cell_type": "code",
   "execution_count": null,
   "id": "5eb74370-7333-406c-9a15-fe698a848e6e",
   "metadata": {},
   "outputs": [],
   "source": [
    "#check of text file to make sure it was cleaned properly \n",
    "with open(\"file.txt\", \"w\") as output:\n",
    "    output.write(str(texts))"
   ]
  },
  {
   "cell_type": "code",
   "execution_count": 6,
   "id": "8a12d518",
   "metadata": {},
   "outputs": [],
   "source": [
    "import pandas as pd"
   ]
  },
  {
   "cell_type": "code",
   "execution_count": null,
   "id": "44d67b56",
   "metadata": {},
   "outputs": [],
   "source": []
  },
  {
   "cell_type": "code",
   "execution_count": null,
   "id": "4faa4972",
   "metadata": {},
   "outputs": [],
   "source": []
  },
  {
   "cell_type": "code",
   "execution_count": null,
   "id": "0358f316",
   "metadata": {},
   "outputs": [],
   "source": []
  },
  {
   "cell_type": "code",
   "execution_count": 7,
   "id": "0df53239",
   "metadata": {
    "scrolled": true
   },
   "outputs": [],
   "source": [
    "# reading files\n",
    "dfdat1 = pd.read_csv('2021VAERSDATA.csv', index_col=None, header=0, dtype = 'object', encoding= 'latin1')\n",
    "dfvax1 = pd.read_csv('2021VAERSVAX.csv', index_col=None, header=0, dtype = 'object', encoding= 'latin1')\n",
    "dfdat2 = pd.read_csv('2022VAERSDATA.csv', index_col=None, header=0, dtype = 'object', encoding= 'latin1')\n",
    "dfvax2 = pd.read_csv('2022VAERSVAX.csv', index_col=None, header=0, dtype = 'object', encoding= 'latin1')"
   ]
  },
  {
   "cell_type": "code",
   "execution_count": 8,
   "id": "a97f5466",
   "metadata": {},
   "outputs": [],
   "source": [
    "# merging dataframes\n",
    "df1_merged = dfvax1.merge(dfdat1, how = 'outer', on = 'VAERS_ID')\n",
    "df2_merged = dfvax2.merge(dfdat2, how = 'outer', on = 'VAERS_ID')\n",
    "\n",
    "df = pd.concat([df1_merged, df2_merged], axis=0)\n",
    "\n",
    "# extracting desired columns\n",
    "df = df.loc(axis=1)['VAX_MANU','SYMPTOM_TEXT']"
   ]
  },
  {
   "cell_type": "code",
   "execution_count": 3,
   "id": "c7a86ed3",
   "metadata": {},
   "outputs": [],
   "source": [
    "# import modules\n",
    "import os.path\n",
    "from gensim import corpora\n",
    "from gensim.models import LdaModel\n",
    "import nltk\n",
    "from nltk.tokenize import RegexpTokenizer\n",
    "from nltk.corpus import stopwords\n",
    "from nltk.stem.porter import PorterStemmer\n",
    "from gensim.models import LsiModel\n",
    "from gensim.models.coherencemodel import CoherenceModel\n",
    "import matplotlib.pyplot as plt"
   ]
  },
  {
   "cell_type": "code",
   "execution_count": 1,
   "id": "ff824ca7",
   "metadata": {},
   "outputs": [],
   "source": [
    "def clean_data(doc_set):\n",
    "    \"\"\"\n",
    "    Input: document list\n",
    "    Purpose: preprocess text (tokenize, remove stopwords, stemming)\n",
    "    Output: cleaned text\n",
    "    \"\"\"\n",
    "\n",
    "    tokenizer = RegexpTokenizer(r'\\w+')\n",
    "\n",
    "    # create English stop words list\n",
    "    en_stop = nltk.corpus.stopwords.words('english')\n",
    "\n",
    "    # adding new stop words\n",
    "    new_stopwords = ['could', 'within', 'us', 'doctor', 'medical', 'day', 'moderna', 'pfizer', 'patient', 'vaccine', \n",
    "                 'report', 'gsk', 'janssen', 'merck', 'get', 'got', 'lot', 'left', 'right','like','went','take', \n",
    "                 'note', 'notes', 'given', 'receive', 'receiving','reporting','reported','received','unspecific',\n",
    "                 'unspecified','unknown','reporting', 'pt','non','caller','number', 'state','call', 'start','feel',\n",
    "                 'date', 'reporter','administered', 'dose', 'season','go','day','still','includ','data','laboratori',\n",
    "                 'minut','receiv','admin','condit','caus','consid','inform','comment','ye','clinic','outcom','vaccin',\n",
    "                 'medic','administ','administr','symptom', 'week', 'last', 'time', 'hour', 'month', 'sinc', 'also', 'two', 'first', 'j', 'b']\n",
    "\n",
    "    # Create p_stemmer of class PorterStemmer\n",
    "    p_stemmer = nltk.stem.snowball.PorterStemmer(ignore_stopwords=False).stem\n",
    "\n",
    "    # list for tokenized documents in loop\n",
    "    texts = []\n",
    "\n",
    "    # replace empty cells with stopword\n",
    "    #dfpbt = dfpbt.replace('void', 'the')\n",
    "    #dfpbt = dfpbt.fillna('the')\n",
    "\n",
    "    # loop through document list\n",
    "    for i in doc_set:\n",
    "\n",
    "        # clean and tokenize document string\n",
    "        raw = i.lower()\n",
    "        tokens = tokenizer.tokenize(raw)\n",
    "\n",
    "        # remove stop words from tokens\n",
    "        stopped_tokens = [i for i in tokens if not i in en_stop] \n",
    "\n",
    "        # remove numbers from tokens    \n",
    "        letter_tokens = [i for i in stopped_tokens if not any(filter(str.isdigit, i))]\n",
    "\n",
    "        # stem tokens\n",
    "        stemmed_tokens = [p_stemmer(i) for i in letter_tokens]\n",
    "\n",
    "        # remove stop words from tokens\n",
    "        new_tokens = [i for i in stemmed_tokens if not i in new_stopwords] \n",
    "\n",
    "        # lemmatize tokens\n",
    "        #lemma_tokens = [lemmatizer.lemmatize(i) for i in letter_tokens]\n",
    "\n",
    "        # add tokens to list\n",
    "        texts.append(new_tokens)\n",
    "        \n",
    "    return texts"
   ]
  },
  {
   "cell_type": "code",
   "execution_count": 2,
   "id": "2355a5b3",
   "metadata": {},
   "outputs": [],
   "source": [
    "def prepare_corpus(doc_clean):\n",
    "    \"\"\"\n",
    "    Input  : clean document\n",
    "    Purpose: create term dictionary of our courpus and Converting list of documents (corpus) into Document Term Matrix\n",
    "    Output : term dictionary and Document Term Matrix\n",
    "    \"\"\"\n",
    "    # Creating the term dictionary of our courpus, where every unique term is assigned an index. dictionary = corpora.Dictionary(doc_clean)\n",
    "    dictionary = corpora.Dictionary(doc_clean)\n",
    "    # Converting list of documents (corpus) into Document Term Matrix using dictionary prepared above.\n",
    "    doc_term_matrix = [dictionary.doc2bow(doc) for doc in doc_clean]\n",
    "    # generate LDA model\n",
    "    return dictionary,doc_term_matrix\n",
    "\n",
    "def create_gensim_lda_model(doc_clean,number_of_topics,words):\n",
    "    \"\"\"\n",
    "    Input  : clean document, number of topics and number of words associated with each topic\n",
    "    Purpose: create LDA model using gensim\n",
    "    Output : return LDA model\n",
    "    \"\"\"\n",
    "    dictionary,doc_term_matrix=prepare_corpus(doc_clean)\n",
    "    # generate LDA model\n",
    "    ldamodel = LdaModel(doc_term_matrix, num_topics=number_of_topics, id2word = dictionary, passes=10)  # train model\n",
    "    print(ldamodel.print_topics(num_topics=number_of_topics, num_words=words))\n",
    "    return ldamodel\n",
    "\n",
    "def compute_coherence_values(dictionary, doc_term_matrix, doc_clean, stop, start=2, step=3):\n",
    "    \"\"\"\n",
    "    Input   : dictionary : Gensim dictionary\n",
    "              corpus : Gensim corpus\n",
    "              texts : List of input texts\n",
    "              stop : Max num of topics\n",
    "    purpose : Compute c_v coherence for various number of topics\n",
    "    Output  : model_list : List of LDA topic models\n",
    "              coherence_values : Coherence values corresponding to the LDA model with respective number of topics\n",
    "    \"\"\"\n",
    "    coherence_values = []\n",
    "    model_list = []\n",
    "    for num_topics in range(start, stop, step):\n",
    "        # generate LdA model\n",
    "        #model = gensim.models.ldamodel.LdaModel(doc_term_matrix, num_topics=number_of_topics, id2word = dictionary, passes=10)\n",
    "        model = LdaModel(doc_term_matrix, num_topics=number_of_topics, id2word = dictionary, passes=10) # train model\n",
    "        model_list.append(model)\n",
    "        coherencemodel = CoherenceModel(model=model, texts=doc_clean, dictionary=dictionary, coherence='c_v')\n",
    "        coherence_values.append(coherencemodel.get_coherence())\n",
    "    return model_list, coherence_values\n",
    "    \n",
    "def plot_graph(doc_clean,start, stop, step):\n",
    "    dictionary,doc_term_matrix=prepare_corpus(doc_clean)\n",
    "    model_list, coherence_values = compute_coherence_values(dictionary, doc_term_matrix,doc_clean,\n",
    "                                                            stop, start, step)\n",
    "    # Show graph\n",
    "    x = range(start, stop, step)\n",
    "    plt.plot(x, coherence_values)\n",
    "    plt.xlabel(\"Number of Topics\")\n",
    "    plt.ylabel(\"Coherence score\")\n",
    "    plt.legend((\"coherence_values\"), loc='best')\n",
    "    plt.show()\n"
   ]
  },
  {
   "cell_type": "code",
   "execution_count": 10,
   "id": "74c579c1",
   "metadata": {},
   "outputs": [
    {
     "name": "stdout",
     "output_type": "stream",
     "text": [
      "[(0, '0.064*\"heart\" + 0.055*\"breath\" + 0.040*\"chest\" + 0.038*\"import\" + 0.037*\"short\" + 0.028*\"cough\" + 0.027*\"pressur\" + 0.022*\"social\" + 0.022*\"blood\" + 0.019*\"rate\"'), (1, '0.098*\"experienc\" + 0.088*\"action\" + 0.038*\"year\" + 0.038*\"recov\" + 0.037*\"old\" + 0.030*\"covid\" + 0.030*\"apr\" + 0.028*\"arm\" + 0.026*\"mar\" + 0.025*\"subject\"'), (2, '0.091*\"covid\" + 0.071*\"batch\" + 0.059*\"unspecifi\" + 0.031*\"suspens\" + 0.030*\"inject\" + 0.028*\"taken\" + 0.028*\"concomit\" + 0.027*\"concern\" + 0.027*\"compani\" + 0.027*\"weight\"'), (3, '0.050*\"suspect\" + 0.027*\"perform\" + 0.020*\"booster\" + 0.018*\"shot\" + 0.015*\"felt\" + 0.012*\"work\" + 0.010*\"back\" + 0.009*\"took\" + 0.009*\"one\" + 0.009*\"result\"'), (4, '0.012*\"client\" + 0.009*\"dizzi\" + 0.008*\"bp\" + 0.008*\"head\" + 0.008*\"second\" + 0.008*\"updat\" + 0.008*\"felt\" + 0.007*\"reaction\" + 0.007*\"revaccin\" + 0.007*\"puls\"'), (5, '0.085*\"headach\" + 0.071*\"fever\" + 0.046*\"bodi\" + 0.043*\"fatigu\" + 0.042*\"chill\" + 0.041*\"ach\" + 0.035*\"pain\" + 0.027*\"sever\" + 0.027*\"nausea\" + 0.020*\"muscl\"'), (6, '0.094*\"covid\" + 0.071*\"event\" + 0.027*\"infect\" + 0.027*\"associ\" + 0.025*\"failur\" + 0.025*\"test\" + 0.021*\"posit\" + 0.019*\"product\" + 0.018*\"relationship\" + 0.018*\"total\"'), (7, '0.089*\"pain\" + 0.043*\"arm\" + 0.038*\"leg\" + 0.019*\"hand\" + 0.018*\"swell\" + 0.018*\"inject\" + 0.018*\"back\" + 0.018*\"numb\" + 0.017*\"eye\" + 0.016*\"rash\"'), (8, '0.129*\"rout\" + 0.116*\"seriou\" + 0.115*\"seri\" + 0.110*\"spontan\" + 0.106*\"applic\" + 0.038*\"drug\" + 0.029*\"use\" + 0.016*\"form\" + 0.015*\"previous\" + 0.015*\"sep\"'), (9, '0.018*\"hospit\" + 0.015*\"prophylaxi\" + 0.012*\"present\" + 0.011*\"discharg\" + 0.009*\"acut\" + 0.009*\"admit\" + 0.009*\"blood\" + 0.008*\"home\" + 0.008*\"normal\" + 0.008*\"care\"')]\n"
     ]
    },
    {
     "data": {
      "image/png": "[encoded data removed]",
      "text/plain": [
       "<Figure size 640x480 with 1 Axes>"
      ]
     },
     "metadata": {},
     "output_type": "display_data"
    }
   ],
   "source": [
    "## GSK\n",
    "dfgsk = df[df['VAX_MANU'] == 'JANSSEN'].reset_index(drop=True)\n",
    "dfgsk = dfgsk.astype(str)\n",
    "dfgsk = dfgsk.drop_duplicates()\n",
    "clean_gsk = clean_data(dfgsk['SYMPTOM_TEXT'])\n",
    "\n",
    "# LDA Model\n",
    "number_of_topics = 10\n",
    "words = 10\n",
    "clean_text = clean_gsk\n",
    "model = create_gensim_lda_model(clean_text,number_of_topics,words)\n",
    "start,stop,step=2,12,1\n",
    "plot_graph(clean_text,start,stop,step)"
   ]
  },
  {
   "cell_type": "code",
   "execution_count": 25,
   "id": "dcf6f279",
   "metadata": {},
   "outputs": [
    {
     "name": "stdout",
     "output_type": "stream",
     "text": [
      "[(0, '0.045*\"bival\" + 0.030*\"booster\" + 0.028*\"test\" + 0.025*\"ba\" + 0.021*\"covid\" + 0.020*\"posit\" + 0.013*\"origin\" + 0.013*\"omicron\" + 0.011*\"seriou\" + 0.010*\"nov\"'), (1, '0.090*\"temperatur\" + 0.072*\"headach\" + 0.070*\"fever\" + 0.070*\"fatigu\" + 0.052*\"poor\" + 0.045*\"chill\" + 0.037*\"ach\" + 0.032*\"degre\" + 0.031*\"bodi\" + 0.023*\"nausea\"'), (2, '0.140*\"site\" + 0.112*\"inject\" + 0.067*\"arm\" + 0.052*\"red\" + 0.047*\"swell\" + 0.019*\"swollen\" + 0.016*\"hcp\" + 0.015*\"area\" + 0.015*\"sore\" + 0.014*\"size\"'), (3, '0.080*\"covid\" + 0.053*\"mrna\" + 0.048*\"event\" + 0.046*\"product\" + 0.030*\"advers\" + 0.026*\"excurs\" + 0.026*\"experienc\" + 0.026*\"case\" + 0.022*\"provid\" + 0.021*\"temperatur\"'), (4, '0.130*\"pain\" + 0.085*\"rout\" + 0.057*\"intramuscular\" + 0.052*\"mod\" + 0.042*\"arm\" + 0.034*\"arthriti\" + 0.024*\"humira\" + 0.023*\"sore\" + 0.017*\"extrem\" + 0.016*\"wrong\"'), (5, '0.051*\"blood\" + 0.044*\"heart\" + 0.039*\"eye\" + 0.036*\"pressur\" + 0.029*\"hand\" + 0.027*\"swell\" + 0.021*\"mouth\" + 0.018*\"ear\" + 0.018*\"high\" + 0.017*\"increas\"'), (6, '0.023*\"hospit\" + 0.019*\"covid\" + 0.011*\"diagnost\" + 0.010*\"present\" + 0.010*\"discharg\" + 0.010*\"acut\" + 0.009*\"home\" + 0.008*\"mg\" + 0.007*\"due\" + 0.007*\"diseas\"'), (7, '0.076*\"hour\" + 0.076*\"week\" + 0.047*\"sever\" + 0.043*\"period\" + 0.033*\"last\" + 0.027*\"shot\" + 0.026*\"post\" + 0.020*\"mild\" + 0.018*\"narr\" + 0.015*\"month\"'), (8, '0.061*\"cough\" + 0.043*\"paxlovid\" + 0.039*\"throat\" + 0.036*\"felt\" + 0.031*\"chest\" + 0.030*\"breath\" + 0.030*\"dizzi\" + 0.028*\"congest\" + 0.023*\"loss\" + 0.019*\"nose\"'), (9, '0.220*\"dosag\" + 0.072*\"refriger\" + 0.041*\"rash\" + 0.040*\"reaction\" + 0.025*\"allergi\" + 0.022*\"skin\" + 0.020*\"bodi\" + 0.019*\"psoriasi\" + 0.018*\"clean\" + 0.017*\"hive\"')]\n"
     ]
    }
   ],
   "source": [
    "## MODERNA\n",
    "dfmoderna = df[df['VAX_MANU'] == 'MODERNA'].reset_index(drop=True)\n",
    "dfmoderna = dfmoderna.astype(str)\n",
    "dfmoderna = dfmoderna.drop_duplicates()\n",
    "clean_gsk = clean_data(dfmoderna['SYMPTOM_TEXT'])\n",
    "\n",
    "# LDA Model\n",
    "number_of_topics = 10\n",
    "words = 10\n",
    "clean_text = clean_gsk\n",
    "model = create_gensim_lda_model(clean_text,number_of_topics,words)\n",
    "\n",
    "### easy way to convert models into matrices/dfs"
   ]
  },
  {
   "cell_type": "code",
   "execution_count": 26,
   "id": "9e37ff8d",
   "metadata": {},
   "outputs": [
    {
     "name": "stdout",
     "output_type": "stream",
     "text": [
      "[(0, '0.110*\"site\" + 0.088*\"inject\" + 0.056*\"rash\" + 0.052*\"arm\" + 0.041*\"red\" + 0.034*\"swell\" + 0.031*\"punctur\" + 0.024*\"itch\" + 0.019*\"itchi\" + 0.018*\"swollen\"'), (1, '0.055*\"error\" + 0.040*\"rout\" + 0.032*\"heart\" + 0.023*\"blood\" + 0.022*\"pressur\" + 0.017*\"high\" + 0.015*\"dizzi\" + 0.014*\"cooler\" + 0.012*\"room\" + 0.011*\"rate\"'), (2, '0.205*\"pain\" + 0.066*\"arm\" + 0.041*\"unexpect\" + 0.039*\"sore\" + 0.031*\"extrem\" + 0.029*\"sever\" + 0.021*\"joint\" + 0.021*\"muscl\" + 0.018*\"shoulder\" + 0.018*\"back\"'), (3, '0.108*\"covid\" + 0.086*\"mrna\" + 0.057*\"advers\" + 0.045*\"temperatur\" + 0.042*\"case\" + 0.038*\"bival\" + 0.033*\"expir\" + 0.028*\"form\" + 0.027*\"spontan\" + 0.027*\"vial\"'), (4, '0.059*\"headach\" + 0.058*\"fever\" + 0.058*\"fatigu\" + 0.037*\"chill\" + 0.031*\"ach\" + 0.026*\"degre\" + 0.026*\"bodi\" + 0.025*\"cough\" + 0.023*\"temperatur\" + 0.021*\"nausea\"'), (5, '0.108*\"event\" + 0.104*\"product\" + 0.059*\"excurs\" + 0.046*\"experienc\" + 0.031*\"concomit\" + 0.031*\"old\" + 0.021*\"use\" + 0.021*\"year\" + 0.021*\"femal\" + 0.021*\"batch\"'), (6, '0.163*\"dosag\" + 0.074*\"mod\" + 0.027*\"leg\" + 0.024*\"eye\" + 0.021*\"hand\" + 0.020*\"side\" + 0.019*\"neck\" + 0.019*\"swell\" + 0.018*\"psoriasi\" + 0.016*\"ear\"'), (7, '0.035*\"week\" + 0.029*\"booster\" + 0.027*\"hour\" + 0.021*\"shot\" + 0.020*\"dosag\" + 0.013*\"period\" + 0.013*\"time\" + 0.013*\"also\" + 0.013*\"last\" + 0.012*\"took\"'), (8, '0.057*\"covid\" + 0.041*\"test\" + 0.041*\"occurr\" + 0.037*\"ba\" + 0.031*\"posit\" + 0.019*\"seriou\" + 0.018*\"omicron\" + 0.016*\"arthriti\" + 0.016*\"month\" + 0.015*\"signific\"'), (9, '0.037*\"rout\" + 0.032*\"refriger\" + 0.028*\"store\" + 0.021*\"hospit\" + 0.013*\"breath\" + 0.011*\"discharg\" + 0.011*\"home\" + 0.011*\"present\" + 0.011*\"underw\" + 0.010*\"acut\"')]\n"
     ]
    }
   ],
   "source": [
    "## PFIZER\\BIONTECH\n",
    "dfpbt = df[df['VAX_MANU'] == 'PFIZER\\BIONTECH'].reset_index(drop=True)\n",
    "dfpbt = dfpbt.astype(str)\n",
    "dfpbt = dfpbt.drop_duplicates()\n",
    "clean_gsk = clean_data(dfmoderna['SYMPTOM_TEXT'])\n",
    "\n",
    "# LDA Model\n",
    "number_of_topics = 10\n",
    "words = 10\n",
    "clean_text = clean_gsk\n",
    "model = create_gensim_lda_model(clean_text,number_of_topics,words)"
   ]
  },
  {
   "cell_type": "code",
   "execution_count": null,
   "id": "b0ce2db2-ad00-4e22-9378-8303357ba639",
   "metadata": {},
   "outputs": [],
   "source": [
    ">>> import nltk\n",
    ">>> nltk.download()"
   ]
  },
  {
   "cell_type": "code",
   "execution_count": null,
   "id": "b7f9d3be-067b-405c-9a94-50f46158fef2",
   "metadata": {},
   "outputs": [],
   "source": []
  }
 ],
 "metadata": {
  "kernelspec": {
   "display_name": "Python 3 (ipykernel)",
   "language": "python",
   "name": "python3"
  },
  "language_info": {
   "codemirror_mode": {
    "name": "ipython",
    "version": 3
   },
   "file_extension": ".py",
   "mimetype": "text/x-python",
   "name": "python",
   "nbconvert_exporter": "python",
   "pygments_lexer": "ipython3",
   "version": "3.10.9"
  }
 },
 "nbformat": 4,
 "nbformat_minor": 5
}
