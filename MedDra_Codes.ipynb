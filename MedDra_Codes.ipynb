{
 "cells": [
  {
   "cell_type": "code",
   "execution_count": 15,
   "id": "8f221e85-e569-41aa-8546-e9eb186a894c",
   "metadata": {},
   "outputs": [],
   "source": [
    "import pandas as pd\n",
    "\n",
    "# load in data\n",
    "dfvax1 = pd.read_csv('2021VAERSVAX.csv', index_col=None, header=0, dtype = 'object', encoding= 'latin1')\n",
    "dfvax2 = pd.read_csv('2022VAERSVAX.csv', index_col=None, header=0, dtype = 'object', encoding= 'latin1')\n",
    "df2021 = pd.read_csv('2021VAERSSYMPTOMS.csv', index_col=None, header=0, dtype = 'object', encoding= 'latin1')\n",
    "df2022 = pd.read_csv('2022VAERSSYMPTOMS.csv', index_col=None, header=0, dtype = 'object', encoding= 'latin1')\n",
    "dfsymptoms = pd.concat([df2021, df2022], axis=0)\n",
    "dfvax = pd.concat([dfvax1,dfvax2],axis=0)\n",
    "dfmerged = dfsymptoms.merge(dfvax, how = 'outer', on = 'VAERS_ID')"
   ]
  },
  {
   "cell_type": "code",
   "execution_count": 16,
   "id": "bcda9811-7cee-4e8f-b44d-44c9297a737e",
   "metadata": {},
   "outputs": [
    {
     "name": "stdout",
     "output_type": "stream",
     "text": [
      "  VAERS_ID          SYMPTOM1              SYMPTOM2                  SYMPTOM3  \\\n",
      "0  0910642          Dyspnoea  Heart rate increased  SARS-CoV-2 test negative   \n",
      "1  0916600         Dysphagia          Epiglottitis                       NaN   \n",
      "2  0916601           Anxiety              Dyspnoea                       NaN   \n",
      "3  0916602  Chest discomfort             Dysphagia         Pain in extremity   \n",
      "4  0916603         Dizziness               Fatigue        Mobility decreased   \n",
      "\n",
      "            SYMPTOM4 SYMPTOM5         VAX_MANU  \n",
      "0                NaN      NaN  PFIZER\\BIONTECH  \n",
      "1                NaN      NaN          MODERNA  \n",
      "2                NaN      NaN          MODERNA  \n",
      "3  Visual impairment      NaN  PFIZER\\BIONTECH  \n",
      "4                NaN      NaN          MODERNA  \n"
     ]
    }
   ],
   "source": [
    "df = dfmerged[['VAERS_ID','SYMPTOM1','SYMPTOM2','SYMPTOM3','SYMPTOM4','SYMPTOM5','VAX_MANU']]\n",
    "print(df.head())"
   ]
  },
  {
   "cell_type": "code",
   "execution_count": 17,
   "id": "6dda1a58-77d8-44dd-8bfd-4b12932a0654",
   "metadata": {},
   "outputs": [],
   "source": [
    "df = df.drop_duplicates()"
   ]
  },
  {
   "cell_type": "code",
   "execution_count": 18,
   "id": "267ca765-07cb-4ef5-bfbc-c418b4904b5d",
   "metadata": {},
   "outputs": [
    {
     "name": "stdout",
     "output_type": "stream",
     "text": [
      "                       VAX_MANU VAERS_ID                        SYMPTOM\n",
      "id      Number                                                         \n",
      "0       1       PFIZER\\BIONTECH  0910642                       Dyspnoea\n",
      "1       1               MODERNA  0916600                      Dysphagia\n",
      "2       1               MODERNA  0916601                        Anxiety\n",
      "3       1       PFIZER\\BIONTECH  0916602               Chest discomfort\n",
      "4       1               MODERNA  0916603                      Dizziness\n",
      "...                         ...      ...                            ...\n",
      "1444857 5               MODERNA  2612105          Platelet count normal\n",
      "1444858 5               MODERNA  2612105  White blood cell count normal\n",
      "1444859 5       PFIZER\\BIONTECH  1106891                            NaN\n",
      "1444860 5               JANSSEN  1188655                            NaN\n",
      "1444861 5               MODERNA  1243717                            NaN\n",
      "\n",
      "[6778825 rows x 3 columns]\n"
     ]
    }
   ],
   "source": [
    "df[\"id\"] = df.index\n",
    "\n",
    "#df = df.astype(str)\n",
    "\n",
    "df2 = pd.wide_to_long(df, stubnames='SYMPTOM', i='id', j='Number')\n",
    "\n",
    "print(df2)"
   ]
  },
  {
   "cell_type": "code",
   "execution_count": 19,
   "id": "f6d0aff6-0a7b-4b01-b848-75d7dcf5eb12",
   "metadata": {},
   "outputs": [
    {
     "name": "stdout",
     "output_type": "stream",
     "text": [
      "       VAX_MANU VAERS_ID            SYMPTOM\n",
      "0       JANSSEN  1067448  Unevaluable event\n",
      "1       JANSSEN  1070055           Headache\n",
      "2       JANSSEN  1070546  Burning sensation\n",
      "3       JANSSEN  1070546      Hypoaesthesia\n",
      "4       JANSSEN  1070546  Muscular weakness\n",
      "...         ...      ...                ...\n",
      "517870  JANSSEN  2555411                NaN\n",
      "517871  JANSSEN  2555413                NaN\n",
      "517872  JANSSEN  2555414                NaN\n",
      "517873  JANSSEN  2555568                NaN\n",
      "517874  JANSSEN  1188655                NaN\n",
      "\n",
      "[517875 rows x 3 columns]\n"
     ]
    }
   ],
   "source": [
    "dfjanssen = df2[df2['VAX_MANU'] == 'JANSSEN'].reset_index(drop=True)\n",
    "print(dfjanssen)"
   ]
  },
  {
   "cell_type": "code",
   "execution_count": 6,
   "id": "0de98060-3d11-4339-b412-9d1854b73d1b",
   "metadata": {},
   "outputs": [
    {
     "name": "stdout",
     "output_type": "stream",
     "text": [
      "SYMPTOM\n",
      "Headache             16548\n",
      "Pyrexia              14038\n",
      "Chills               11727\n",
      "Fatigue              11562\n",
      "Pain                 11377\n",
      "Dizziness             8673\n",
      "Nausea                8403\n",
      "Pain in extremity     6766\n",
      "COVID-19              5073\n",
      "Dyspnoea              4988\n",
      "dtype: int64\n"
     ]
    }
   ],
   "source": [
    "df3 = dfjanssen.pivot_table(index = ['SYMPTOM'], aggfunc ='size').nlargest(10)\n",
    "print(df3)"
   ]
  },
  {
   "cell_type": "code",
   "execution_count": 7,
   "id": "aeb1678a-2d15-455a-b964-1c7ae477c7a9",
   "metadata": {},
   "outputs": [],
   "source": [
    "dfmerck = df2[df2['VAX_MANU'] == 'MERCK & CO. INC.'].reset_index(drop=True)"
   ]
  },
  {
   "cell_type": "code",
   "execution_count": 8,
   "id": "8fe4da9a-697d-482d-a225-beb031654295",
   "metadata": {},
   "outputs": [
    {
     "name": "stdout",
     "output_type": "stream",
     "text": [
      "SYMPTOM\n",
      "No adverse event                                        5467\n",
      "Product storage error                                   4186\n",
      "Expired product administered                            1789\n",
      "Pyrexia                                                 1047\n",
      "Rash                                                     919\n",
      "Product administered to patient of inappropriate age     846\n",
      "Injection site erythema                                  822\n",
      "Inappropriate schedule of product administration         797\n",
      "Pain                                                     734\n",
      "Wrong product administered                               733\n",
      "dtype: int64\n"
     ]
    }
   ],
   "source": [
    "df4 = dfmerck.pivot_table(index = ['SYMPTOM'], aggfunc ='size').nlargest(10)\n",
    "print(df4)"
   ]
  },
  {
   "cell_type": "code",
   "execution_count": 9,
   "id": "1894599b-7524-46c7-9622-f110b4deabb9",
   "metadata": {},
   "outputs": [],
   "source": [
    "dfgsk = df2[df2['VAX_MANU'] == 'GLAXOSMITHKLINE BIOLOGICALS'].reset_index(drop=True)"
   ]
  },
  {
   "cell_type": "code",
   "execution_count": 10,
   "id": "a949c1ed-ba52-4935-becd-cfeb32d264ab",
   "metadata": {},
   "outputs": [
    {
     "name": "stdout",
     "output_type": "stream",
     "text": [
      "SYMPTOM\n",
      "Pyrexia                             3329\n",
      "Pain                                3125\n",
      "Headache                            2838\n",
      "Chills                              2615\n",
      "Fatigue                             2541\n",
      "Pain in extremity                   2484\n",
      "Injection site pain                 2249\n",
      "Incomplete course of vaccination    1916\n",
      "Injection site erythema             1764\n",
      "Rash                                1711\n",
      "dtype: int64\n"
     ]
    }
   ],
   "source": [
    "df5 = dfgsk.pivot_table(index = ['SYMPTOM'], aggfunc ='size').nlargest(10)\n",
    "print(df5)"
   ]
  },
  {
   "cell_type": "code",
   "execution_count": 11,
   "id": "0fab4f0a-c943-461d-bae4-5ef06e680809",
   "metadata": {},
   "outputs": [],
   "source": [
    "dfpbt = df2[df2['VAX_MANU'] == 'PFIZER\\BIONTECH'].reset_index(drop=True)"
   ]
  },
  {
   "cell_type": "code",
   "execution_count": 12,
   "id": "97bc1f84-f137-4da3-ad70-f5ee1b2c93ef",
   "metadata": {},
   "outputs": [
    {
     "name": "stdout",
     "output_type": "stream",
     "text": [
      "SYMPTOM\n",
      "Headache                    61409\n",
      "Fatigue                     54439\n",
      "Pyrexia                     49296\n",
      "Pain                        45159\n",
      "COVID-19                    42383\n",
      "Chills                      39355\n",
      "Dizziness                   38197\n",
      "Nausea                      34631\n",
      "Pain in extremity           33068\n",
      "SARS-CoV-2 test positive    26718\n",
      "dtype: int64\n"
     ]
    }
   ],
   "source": [
    "df6 = dfpbt.pivot_table(index = ['SYMPTOM'], aggfunc ='size').nlargest(10)\n",
    "print(df6)"
   ]
  },
  {
   "cell_type": "code",
   "execution_count": 13,
   "id": "6e5d1a89-5818-4265-b4cd-eac0c3001632",
   "metadata": {},
   "outputs": [],
   "source": [
    "dfmoderna = df2[df2['VAX_MANU'] == 'MODERNA'].reset_index(drop=True)"
   ]
  },
  {
   "cell_type": "code",
   "execution_count": 14,
   "id": "cb939cc4-45c1-43d4-b9e8-b9fea8c4b65e",
   "metadata": {},
   "outputs": [
    {
     "name": "stdout",
     "output_type": "stream",
     "text": [
      "SYMPTOM\n",
      "Headache             63365\n",
      "Pyrexia              59534\n",
      "Fatigue              56460\n",
      "Chills               48970\n",
      "Pain                 46509\n",
      "Pain in extremity    38291\n",
      "Nausea               34681\n",
      "Dizziness            30158\n",
      "Myalgia              27174\n",
      "COVID-19             25772\n",
      "dtype: int64\n"
     ]
    }
   ],
   "source": [
    "df7 = dfmoderna.pivot_table(index = ['SYMPTOM'], aggfunc ='size').nlargest(10)\n",
    "print(df7)"
   ]
  },
  {
   "cell_type": "code",
   "execution_count": null,
   "id": "2820c60c-3218-4e8d-a33a-af441fa0a8f2",
   "metadata": {},
   "outputs": [],
   "source": []
  }
 ],
 "metadata": {
  "kernelspec": {
   "display_name": "Python 3 (ipykernel)",
   "language": "python",
   "name": "python3"
  },
  "language_info": {
   "codemirror_mode": {
    "name": "ipython",
    "version": 3
   },
   "file_extension": ".py",
   "mimetype": "text/x-python",
   "name": "python",
   "nbconvert_exporter": "python",
   "pygments_lexer": "ipython3",
   "version": "3.10.9"
  }
 },
 "nbformat": 4,
 "nbformat_minor": 5
}
