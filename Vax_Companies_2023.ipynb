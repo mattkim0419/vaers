{
 "cells": [
  {
   "cell_type": "code",
   "execution_count": 44,
   "id": "b941d389",
   "metadata": {},
   "outputs": [
    {
     "data": {
      "text/html": [
       "<div>\n",
       "<style scoped>\n",
       "    .dataframe tbody tr th:only-of-type {\n",
       "        vertical-align: middle;\n",
       "    }\n",
       "\n",
       "    .dataframe tbody tr th {\n",
       "        vertical-align: top;\n",
       "    }\n",
       "\n",
       "    .dataframe thead th {\n",
       "        text-align: right;\n",
       "    }\n",
       "</style>\n",
       "<table border=\"1\" class=\"dataframe\">\n",
       "  <thead>\n",
       "    <tr style=\"text-align: right;\">\n",
       "      <th></th>\n",
       "      <th>VAERS_ID</th>\n",
       "      <th>VAX_TYPE</th>\n",
       "      <th>VAX_MANU</th>\n",
       "      <th>VAX_LOT</th>\n",
       "      <th>VAX_DOSE_SERIES</th>\n",
       "      <th>VAX_ROUTE</th>\n",
       "      <th>VAX_SITE</th>\n",
       "      <th>VAX_NAME</th>\n",
       "    </tr>\n",
       "  </thead>\n",
       "  <tbody>\n",
       "    <tr>\n",
       "      <th>0</th>\n",
       "      <td>2547730</td>\n",
       "      <td>COVID19</td>\n",
       "      <td>JANSSEN</td>\n",
       "      <td>1808982</td>\n",
       "      <td>UNK</td>\n",
       "      <td>SYR</td>\n",
       "      <td>AR</td>\n",
       "      <td>COVID19 (COVID19 (JANSSEN))</td>\n",
       "    </tr>\n",
       "    <tr>\n",
       "      <th>1</th>\n",
       "      <td>2547731</td>\n",
       "      <td>COVID19</td>\n",
       "      <td>PFIZER\\BIONTECH</td>\n",
       "      <td>GK1657</td>\n",
       "      <td>3</td>\n",
       "      <td>IM</td>\n",
       "      <td>LA</td>\n",
       "      <td>COVID19 (COVID19 (PFIZER-BIONTECH))</td>\n",
       "    </tr>\n",
       "    <tr>\n",
       "      <th>2</th>\n",
       "      <td>2547732</td>\n",
       "      <td>COVID19-2</td>\n",
       "      <td>MODERNA</td>\n",
       "      <td>141H22A</td>\n",
       "      <td>4</td>\n",
       "      <td>IM</td>\n",
       "      <td>LA</td>\n",
       "      <td>COVID19 (COVID19 (MODERNA BIVALENT))</td>\n",
       "    </tr>\n",
       "    <tr>\n",
       "      <th>3</th>\n",
       "      <td>2547733</td>\n",
       "      <td>COVID19</td>\n",
       "      <td>MODERNA</td>\n",
       "      <td>042h22a</td>\n",
       "      <td>1</td>\n",
       "      <td>IM</td>\n",
       "      <td>LA</td>\n",
       "      <td>COVID19 (COVID19 (MODERNA))</td>\n",
       "    </tr>\n",
       "    <tr>\n",
       "      <th>4</th>\n",
       "      <td>2547734</td>\n",
       "      <td>TDAP</td>\n",
       "      <td>GLAXOSMITHKLINE BIOLOGICALS</td>\n",
       "      <td>KP547</td>\n",
       "      <td>1</td>\n",
       "      <td>IM</td>\n",
       "      <td>LA</td>\n",
       "      <td>TDAP (BOOSTRIX)</td>\n",
       "    </tr>\n",
       "  </tbody>\n",
       "</table>\n",
       "</div>"
      ],
      "text/plain": [
       "   VAERS_ID   VAX_TYPE                     VAX_MANU  VAX_LOT VAX_DOSE_SERIES  \\\n",
       "0   2547730    COVID19                      JANSSEN  1808982             UNK   \n",
       "1   2547731    COVID19              PFIZER\\BIONTECH   GK1657               3   \n",
       "2   2547732  COVID19-2                      MODERNA  141H22A               4   \n",
       "3   2547733    COVID19                      MODERNA  042h22a               1   \n",
       "4   2547734       TDAP  GLAXOSMITHKLINE BIOLOGICALS    KP547               1   \n",
       "\n",
       "  VAX_ROUTE VAX_SITE                              VAX_NAME  \n",
       "0       SYR       AR           COVID19 (COVID19 (JANSSEN))  \n",
       "1        IM       LA   COVID19 (COVID19 (PFIZER-BIONTECH))  \n",
       "2        IM       LA  COVID19 (COVID19 (MODERNA BIVALENT))  \n",
       "3        IM       LA           COVID19 (COVID19 (MODERNA))  \n",
       "4        IM       LA                       TDAP (BOOSTRIX)  "
      ]
     },
     "execution_count": 44,
     "metadata": {},
     "output_type": "execute_result"
    }
   ],
   "source": [
    "## 2023\n",
    "import numpy as np\n",
    "import pandas as pd\n",
    "\n",
    "# load in data\n",
    "df = pd.read_csv('2023VAERSVAX.csv')\n",
    "df.head()"
   ]
  },
  {
   "cell_type": "code",
   "execution_count": 83,
   "id": "6194f176",
   "metadata": {},
   "outputs": [
    {
     "name": "stdout",
     "output_type": "stream",
     "text": [
      "BAVARIAN NORDIC 51\n",
      "BERNA BIOTECH, LTD. 5\n",
      "DYNAVAX TECHNOLOGIES CORPORATION 54\n",
      "EMERGENT BIOSOLUTIONS 12\n",
      "GLAXOSMITHKLINE BIOLOGICALS 2060\n",
      "INTERCELL AG 2\n",
      "JANSSEN 397\n",
      "MASS. PUB HLTH BIOL LAB 2\n",
      "MEDIMMUNE VACCINES, INC. 8\n",
      "MERCK & CO. INC. 1251\n",
      "MODERNA 7242\n",
      "MSP VACCINE COMPANY 19\n",
      "NOVARTIS VACCINES AND DIAGNOSTICS 161\n",
      "NOVAVAX 34\n",
      "PFIZER\\BIONTECH 11689\n",
      "PFIZER\\WYETH 320\n",
      "PROTEIN SCIENCES CORPORATION 41\n",
      "SANOFI PASTEUR 891\n",
      "SEQIRUS, INC. 359\n",
      "TEVA PHARMACEUTICALS 3\n",
      "UNKNOWN MANUFACTURER 1597\n",
      "VBI VACCINES 1\n"
     ]
    }
   ],
   "source": [
    "groups = df.groupby(df.VAX_MANU)\n",
    "companies = groups.groups.keys()\n",
    "for i in companies:\n",
    "    print(i, len(groups.get_group(i)))"
   ]
  },
  {
   "cell_type": "code",
   "execution_count": null,
   "id": "ebe5cd1e",
   "metadata": {},
   "outputs": [],
   "source": [
    "#GLAXOSMITHKLINE BIOLOGICALS\n",
    "#MERCK & CO. INC.\n",
    "#MODERNA\n",
    "#PFIZER\\BIONTECH\n",
    "#SANOFI PASTEUR"
   ]
  }
 ],
 "metadata": {
  "kernelspec": {
   "display_name": "Python 3 (ipykernel)",
   "language": "python",
   "name": "python3"
  },
  "language_info": {
   "codemirror_mode": {
    "name": "ipython",
    "version": 3
   },
   "file_extension": ".py",
   "mimetype": "text/x-python",
   "name": "python",
   "nbconvert_exporter": "python",
   "pygments_lexer": "ipython3",
   "version": "3.9.13"
  }
 },
 "nbformat": 4,
 "nbformat_minor": 5
}
