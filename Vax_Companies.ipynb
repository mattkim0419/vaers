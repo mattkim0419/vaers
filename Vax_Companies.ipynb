{
 "cells": [
  {
   "cell_type": "code",
   "execution_count": 145,
   "id": "e45423f2",
   "metadata": {},
   "outputs": [
    {
     "data": {
      "text/html": [
       "<div>\n",
       "<style scoped>\n",
       "    .dataframe tbody tr th:only-of-type {\n",
       "        vertical-align: middle;\n",
       "    }\n",
       "\n",
       "    .dataframe tbody tr th {\n",
       "        vertical-align: top;\n",
       "    }\n",
       "\n",
       "    .dataframe thead th {\n",
       "        text-align: right;\n",
       "    }\n",
       "</style>\n",
       "<table border=\"1\" class=\"dataframe\">\n",
       "  <thead>\n",
       "    <tr style=\"text-align: right;\">\n",
       "      <th></th>\n",
       "      <th>VAERS_ID</th>\n",
       "      <th>VAX_TYPE</th>\n",
       "      <th>VAX_MANU</th>\n",
       "      <th>VAX_LOT</th>\n",
       "      <th>VAX_DOSE_SERIES</th>\n",
       "      <th>VAX_ROUTE</th>\n",
       "      <th>VAX_SITE</th>\n",
       "      <th>VAX_NAME</th>\n",
       "    </tr>\n",
       "  </thead>\n",
       "  <tbody>\n",
       "    <tr>\n",
       "      <th>0</th>\n",
       "      <td>2547730</td>\n",
       "      <td>COVID19</td>\n",
       "      <td>JANSSEN</td>\n",
       "      <td>1808982</td>\n",
       "      <td>UNK</td>\n",
       "      <td>SYR</td>\n",
       "      <td>AR</td>\n",
       "      <td>COVID19 (COVID19 (JANSSEN))</td>\n",
       "    </tr>\n",
       "    <tr>\n",
       "      <th>1</th>\n",
       "      <td>2547731</td>\n",
       "      <td>COVID19</td>\n",
       "      <td>PFIZER\\BIONTECH</td>\n",
       "      <td>GK1657</td>\n",
       "      <td>3</td>\n",
       "      <td>IM</td>\n",
       "      <td>LA</td>\n",
       "      <td>COVID19 (COVID19 (PFIZER-BIONTECH))</td>\n",
       "    </tr>\n",
       "    <tr>\n",
       "      <th>2</th>\n",
       "      <td>2547732</td>\n",
       "      <td>COVID19-2</td>\n",
       "      <td>MODERNA</td>\n",
       "      <td>141H22A</td>\n",
       "      <td>4</td>\n",
       "      <td>IM</td>\n",
       "      <td>LA</td>\n",
       "      <td>COVID19 (COVID19 (MODERNA BIVALENT))</td>\n",
       "    </tr>\n",
       "    <tr>\n",
       "      <th>3</th>\n",
       "      <td>2547733</td>\n",
       "      <td>COVID19</td>\n",
       "      <td>MODERNA</td>\n",
       "      <td>042h22a</td>\n",
       "      <td>1</td>\n",
       "      <td>IM</td>\n",
       "      <td>LA</td>\n",
       "      <td>COVID19 (COVID19 (MODERNA))</td>\n",
       "    </tr>\n",
       "    <tr>\n",
       "      <th>4</th>\n",
       "      <td>2547734</td>\n",
       "      <td>TDAP</td>\n",
       "      <td>GLAXOSMITHKLINE BIOLOGICALS</td>\n",
       "      <td>KP547</td>\n",
       "      <td>1</td>\n",
       "      <td>IM</td>\n",
       "      <td>LA</td>\n",
       "      <td>TDAP (BOOSTRIX)</td>\n",
       "    </tr>\n",
       "  </tbody>\n",
       "</table>\n",
       "</div>"
      ],
      "text/plain": [
       "   VAERS_ID   VAX_TYPE                     VAX_MANU  VAX_LOT VAX_DOSE_SERIES  \\\n",
       "0   2547730    COVID19                      JANSSEN  1808982             UNK   \n",
       "1   2547731    COVID19              PFIZER\\BIONTECH   GK1657               3   \n",
       "2   2547732  COVID19-2                      MODERNA  141H22A               4   \n",
       "3   2547733    COVID19                      MODERNA  042h22a               1   \n",
       "4   2547734       TDAP  GLAXOSMITHKLINE BIOLOGICALS    KP547               1   \n",
       "\n",
       "  VAX_ROUTE VAX_SITE                              VAX_NAME  \n",
       "0       SYR       AR           COVID19 (COVID19 (JANSSEN))  \n",
       "1        IM       LA   COVID19 (COVID19 (PFIZER-BIONTECH))  \n",
       "2        IM       LA  COVID19 (COVID19 (MODERNA BIVALENT))  \n",
       "3        IM       LA           COVID19 (COVID19 (MODERNA))  \n",
       "4        IM       LA                       TDAP (BOOSTRIX)  "
      ]
     },
     "execution_count": 145,
     "metadata": {},
     "output_type": "execute_result"
    }
   ],
   "source": [
    "## 2023\n",
    "import numpy as np\n",
    "import pandas as pd\n",
    "\n",
    "# load in data\n",
    "df = pd.read_csv('2023VAERSVAX.csv')\n",
    "df.head()"
   ]
  },
  {
   "cell_type": "markdown",
   "id": "f95b20f3",
   "metadata": {},
   "source": [
    "groups = df.groupby(df.VAX_MANU)\n",
    "companies = groups.groups.keys()\n",
    "for i in companies:\n",
    "    print(i, len(groups.get_group(i)))"
   ]
  },
  {
   "cell_type": "code",
   "execution_count": null,
   "id": "5fcec2d6",
   "metadata": {},
   "outputs": [],
   "source": [
    "# PFIZER\\BIONTECH\n",
    "# MODERNA\n",
    "# GLAXOSMITHKLINE BIOLOGICALS\n",
    "# MERCK & CO. INC.\n",
    "# SANOFI PASTEUR"
   ]
  },
  {
   "cell_type": "code",
   "execution_count": 139,
   "id": "00ba4c21",
   "metadata": {
    "scrolled": true
   },
   "outputs": [
    {
     "name": "stdout",
     "output_type": "stream",
     "text": [
      "BAVARIAN NORDIC 1618\n",
      "BERNA BIOTECH, LTD. 62\n",
      "CSL LIMITED 1\n",
      "DYNAVAX TECHNOLOGIES CORPORATION 334\n",
      "EMERGENT BIOSOLUTIONS 61\n",
      "GLAXOSMITHKLINE BIOLOGICALS 14374\n",
      "INTERCELL AG 17\n",
      "JANSSEN 9388\n",
      "MASS. PUB HLTH BIOL LAB 34\n",
      "MEDIMMUNE VACCINES, INC. 78\n",
      "MERCK & CO. INC. 9468\n",
      "MICHIGAN DEPT PUB HLTH 1\n",
      "MODERNA 98606\n",
      "MSP VACCINE COMPANY 340\n",
      "NOVARTIS VACCINES AND DIAGNOSTICS 1672\n",
      "NOVAVAX 211\n",
      "ORGANON-TEKNIKA 3\n",
      "PAXVAX 2\n",
      "PFIZER\\BIONTECH 121465\n",
      "PFIZER\\WYETH 2074\n",
      "PROTEIN SCIENCES CORPORATION 577\n",
      "SANOFI PASTEUR 7599\n",
      "SEQIRUS, INC. 2721\n",
      "TEVA PHARMACEUTICALS 8\n",
      "UNKNOWN MANUFACTURER 13782\n",
      "VBI VACCINES 1\n"
     ]
    }
   ],
   "source": [
    "## 2022\n",
    "import numpy as np\n",
    "import pandas as pd\n",
    "\n",
    "# load in data\n",
    "df = pd.read_csv('2022VAERSVAX.csv')\n",
    "\n",
    "groups = df.groupby(df.VAX_MANU)\n",
    "companies = groups.groups.keys()\n",
    "for i in companies:\n",
    "    print(i, len(groups.get_group(i)))"
   ]
  },
  {
   "cell_type": "code",
   "execution_count": null,
   "id": "90f40a26",
   "metadata": {},
   "outputs": [],
   "source": [
    "# PFIZER\\BIONTECH\n",
    "# MODERNA\n",
    "# GLAXOSMITHKLINE BIOLOGICALS\n",
    "# MERCK & CO. INC.\n",
    "# JANSSEN"
   ]
  },
  {
   "cell_type": "code",
   "execution_count": 143,
   "id": "4aeb28aa",
   "metadata": {},
   "outputs": [
    {
     "name": "stdout",
     "output_type": "stream",
     "text": [
      "BERNA BIOTECH, LTD. 97\n",
      "CONNAUGHT LABORATORIES 1\n",
      "CSL LIMITED 9\n",
      "DYNAVAX TECHNOLOGIES CORPORATION 247\n",
      "EMERGENT BIOSOLUTIONS 137\n",
      "GLAXOSMITHKLINE BIOLOGICALS 16250\n",
      "INTERCELL AG 17\n",
      "JANSSEN 63008\n",
      "MASS. PUB HLTH BIOL LAB 29\n",
      "MEDIMMUNE VACCINES, INC. 68\n",
      "MERCK & CO. INC. 10477\n",
      "MODERNA 340186\n",
      "MSP VACCINE COMPANY 22\n",
      "NOVARTIS VACCINES AND DIAGNOSTICS 1478\n",
      "NOVAVAX 1\n",
      "PASTEUR MERIEUX CONNAUGHT 1\n",
      "PAXVAX 25\n",
      "PFIZER\\BIONTECH 326371\n",
      "PFIZER\\WYETH 1304\n",
      "PROTEIN SCIENCES CORPORATION 532\n",
      "SANOFI PASTEUR 6871\n",
      "SEQIRUS, INC. 2151\n",
      "SMITHKLINE BEECHAM 7\n",
      "TEVA PHARMACEUTICALS 43\n",
      "UNKNOWN MANUFACTURER 16842\n"
     ]
    }
   ],
   "source": [
    "## 2021\n",
    "import numpy as np\n",
    "import pandas as pd\n",
    "\n",
    "# load in data\n",
    "df = pd.read_csv('2021VAERSVAX.csv')\n",
    "\n",
    "groups = df.groupby(df.VAX_MANU)\n",
    "companies = groups.groups.keys()\n",
    "for i in companies:\n",
    "    print(i, len(groups.get_group(i)))"
   ]
  },
  {
   "cell_type": "code",
   "execution_count": null,
   "id": "54053a30",
   "metadata": {},
   "outputs": [],
   "source": [
    "# MODERNA\n",
    "# PFIZER\\BIONTECH\n",
    "# JANSSEN\n",
    "# GLAXOSMITHKLINE BIOLOGICALS\n",
    "# MERCK & CO. INC."
   ]
  },
  {
   "cell_type": "code",
   "execution_count": null,
   "id": "6e32b4c5",
   "metadata": {},
   "outputs": [],
   "source": [
    "import os\n",
    "import glob\n",
    "import pandas as pd\n",
    "os.chdir(\"/vaers\")"
   ]
  }
 ],
 "metadata": {
  "kernelspec": {
   "display_name": "Python 3 (ipykernel)",
   "language": "python",
   "name": "python3"
  },
  "language_info": {
   "codemirror_mode": {
    "name": "ipython",
    "version": 3
   },
   "file_extension": ".py",
   "mimetype": "text/x-python",
   "name": "python",
   "nbconvert_exporter": "python",
   "pygments_lexer": "ipython3",
   "version": "3.9.13"
  }
 },
 "nbformat": 4,
 "nbformat_minor": 5
}
